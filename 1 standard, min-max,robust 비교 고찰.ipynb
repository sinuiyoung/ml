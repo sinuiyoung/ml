{
 "cells": [
  {
   "cell_type": "markdown",
   "id": "51517e46",
   "metadata": {},
   "source": [
    "# standard, min-max, robust 비교 고찰"
   ]
  },
  {
   "cell_type": "code",
   "execution_count": 2,
   "id": "3786d345",
   "metadata": {
    "ExecuteTime": {
     "end_time": "2022-07-03T04:47:14.178865Z",
     "start_time": "2022-07-03T04:47:11.527437Z"
    }
   },
   "outputs": [],
   "source": [
    "import pandas as pd\n",
    "import numpy as np\n",
    "from sklearn.preprocessing import StandardScaler, MinMaxScaler, RobustScaler\n",
    "import matplotlib.pyplot as plt\n",
    "\n",
    "import seaborn as sns\n",
    "%matplotlib inline"
   ]
  },
  {
   "cell_type": "code",
   "execution_count": 3,
   "id": "555fc025",
   "metadata": {
    "ExecuteTime": {
     "end_time": "2022-07-03T04:47:14.200816Z",
     "start_time": "2022-07-03T04:47:14.181865Z"
    },
    "code_folding": []
   },
   "outputs": [
    {
     "data": {
      "text/plain": [
       "<function RandomState.normal>"
      ]
     },
     "execution_count": 3,
     "metadata": {},
     "output_type": "execute_result"
    }
   ],
   "source": [
    "# data\n",
    "x = pd.DataFrame({\n",
    "    # Distribution with lower outliers\n",
    "    'x1': np.concatenate([np.random.normal(20, 2, 1000), np.random.normal(1, 2, 25)]),\n",
    "    # Distribution with higher outliers\n",
    "    'x2': np.concatenate([np.random.normal(30, 2, 1000), np.random.normal(50, 2, 25)]),\n",
    "})\n",
    "np.random.normal"
   ]
  },
  {
   "cell_type": "code",
   "execution_count": 4,
   "id": "59417232",
   "metadata": {
    "ExecuteTime": {
     "end_time": "2022-07-03T04:47:14.233723Z",
     "start_time": "2022-07-03T04:47:14.202803Z"
    }
   },
   "outputs": [
    {
     "data": {
      "text/html": [
       "<div>\n",
       "<style scoped>\n",
       "    .dataframe tbody tr th:only-of-type {\n",
       "        vertical-align: middle;\n",
       "    }\n",
       "\n",
       "    .dataframe tbody tr th {\n",
       "        vertical-align: top;\n",
       "    }\n",
       "\n",
       "    .dataframe thead th {\n",
       "        text-align: right;\n",
       "    }\n",
       "</style>\n",
       "<table border=\"1\" class=\"dataframe\">\n",
       "  <thead>\n",
       "    <tr style=\"text-align: right;\">\n",
       "      <th></th>\n",
       "      <th>x1</th>\n",
       "      <th>x2</th>\n",
       "    </tr>\n",
       "  </thead>\n",
       "  <tbody>\n",
       "    <tr>\n",
       "      <th>0</th>\n",
       "      <td>0.149362</td>\n",
       "      <td>-0.117180</td>\n",
       "    </tr>\n",
       "    <tr>\n",
       "      <th>1</th>\n",
       "      <td>1.244546</td>\n",
       "      <td>0.480856</td>\n",
       "    </tr>\n",
       "    <tr>\n",
       "      <th>2</th>\n",
       "      <td>-0.692697</td>\n",
       "      <td>-1.183137</td>\n",
       "    </tr>\n",
       "    <tr>\n",
       "      <th>3</th>\n",
       "      <td>-0.188995</td>\n",
       "      <td>-0.516778</td>\n",
       "    </tr>\n",
       "    <tr>\n",
       "      <th>4</th>\n",
       "      <td>0.154079</td>\n",
       "      <td>0.144204</td>\n",
       "    </tr>\n",
       "    <tr>\n",
       "      <th>...</th>\n",
       "      <td>...</td>\n",
       "      <td>...</td>\n",
       "    </tr>\n",
       "    <tr>\n",
       "      <th>1020</th>\n",
       "      <td>-5.836444</td>\n",
       "      <td>5.190403</td>\n",
       "    </tr>\n",
       "    <tr>\n",
       "      <th>1021</th>\n",
       "      <td>-6.003953</td>\n",
       "      <td>5.399710</td>\n",
       "    </tr>\n",
       "    <tr>\n",
       "      <th>1022</th>\n",
       "      <td>-5.489242</td>\n",
       "      <td>5.287779</td>\n",
       "    </tr>\n",
       "    <tr>\n",
       "      <th>1023</th>\n",
       "      <td>-4.126271</td>\n",
       "      <td>5.096636</td>\n",
       "    </tr>\n",
       "    <tr>\n",
       "      <th>1024</th>\n",
       "      <td>-4.400637</td>\n",
       "      <td>4.678384</td>\n",
       "    </tr>\n",
       "  </tbody>\n",
       "</table>\n",
       "<p>1025 rows × 2 columns</p>\n",
       "</div>"
      ],
      "text/plain": [
       "            x1        x2\n",
       "0     0.149362 -0.117180\n",
       "1     1.244546  0.480856\n",
       "2    -0.692697 -1.183137\n",
       "3    -0.188995 -0.516778\n",
       "4     0.154079  0.144204\n",
       "...        ...       ...\n",
       "1020 -5.836444  5.190403\n",
       "1021 -6.003953  5.399710\n",
       "1022 -5.489242  5.287779\n",
       "1023 -4.126271  5.096636\n",
       "1024 -4.400637  4.678384\n",
       "\n",
       "[1025 rows x 2 columns]"
      ]
     },
     "execution_count": 4,
     "metadata": {},
     "output_type": "execute_result"
    }
   ],
   "source": [
    "scaler = StandardScaler()\n",
    "standard_df = scaler.fit_transform(x)\n",
    "standard_df = pd.DataFrame(standard_df, columns=['x1','x2'])\n",
    "standard_df"
   ]
  },
  {
   "cell_type": "code",
   "execution_count": 5,
   "id": "339ab540",
   "metadata": {
    "ExecuteTime": {
     "end_time": "2022-07-03T04:47:14.254664Z",
     "start_time": "2022-07-03T04:47:14.237709Z"
    }
   },
   "outputs": [
    {
     "data": {
      "text/html": [
       "<div>\n",
       "<style scoped>\n",
       "    .dataframe tbody tr th:only-of-type {\n",
       "        vertical-align: middle;\n",
       "    }\n",
       "\n",
       "    .dataframe tbody tr th {\n",
       "        vertical-align: top;\n",
       "    }\n",
       "\n",
       "    .dataframe thead th {\n",
       "        text-align: right;\n",
       "    }\n",
       "</style>\n",
       "<table border=\"1\" class=\"dataframe\">\n",
       "  <thead>\n",
       "    <tr style=\"text-align: right;\">\n",
       "      <th></th>\n",
       "      <th>x1</th>\n",
       "      <th>x2</th>\n",
       "    </tr>\n",
       "  </thead>\n",
       "  <tbody>\n",
       "    <tr>\n",
       "      <th>0</th>\n",
       "      <td>0.788743</td>\n",
       "      <td>0.207247</td>\n",
       "    </tr>\n",
       "    <tr>\n",
       "      <th>1</th>\n",
       "      <td>0.925265</td>\n",
       "      <td>0.277643</td>\n",
       "    </tr>\n",
       "    <tr>\n",
       "      <th>2</th>\n",
       "      <td>0.683774</td>\n",
       "      <td>0.081772</td>\n",
       "    </tr>\n",
       "    <tr>\n",
       "      <th>3</th>\n",
       "      <td>0.746564</td>\n",
       "      <td>0.160210</td>\n",
       "    </tr>\n",
       "    <tr>\n",
       "      <th>4</th>\n",
       "      <td>0.789331</td>\n",
       "      <td>0.238015</td>\n",
       "    </tr>\n",
       "    <tr>\n",
       "      <th>...</th>\n",
       "      <td>...</td>\n",
       "      <td>...</td>\n",
       "    </tr>\n",
       "    <tr>\n",
       "      <th>1020</th>\n",
       "      <td>0.042570</td>\n",
       "      <td>0.832008</td>\n",
       "    </tr>\n",
       "    <tr>\n",
       "      <th>1021</th>\n",
       "      <td>0.021689</td>\n",
       "      <td>0.856645</td>\n",
       "    </tr>\n",
       "    <tr>\n",
       "      <th>1022</th>\n",
       "      <td>0.085851</td>\n",
       "      <td>0.843470</td>\n",
       "    </tr>\n",
       "    <tr>\n",
       "      <th>1023</th>\n",
       "      <td>0.255755</td>\n",
       "      <td>0.820970</td>\n",
       "    </tr>\n",
       "    <tr>\n",
       "      <th>1024</th>\n",
       "      <td>0.221553</td>\n",
       "      <td>0.771738</td>\n",
       "    </tr>\n",
       "  </tbody>\n",
       "</table>\n",
       "<p>1025 rows × 2 columns</p>\n",
       "</div>"
      ],
      "text/plain": [
       "            x1        x2\n",
       "0     0.788743  0.207247\n",
       "1     0.925265  0.277643\n",
       "2     0.683774  0.081772\n",
       "3     0.746564  0.160210\n",
       "4     0.789331  0.238015\n",
       "...        ...       ...\n",
       "1020  0.042570  0.832008\n",
       "1021  0.021689  0.856645\n",
       "1022  0.085851  0.843470\n",
       "1023  0.255755  0.820970\n",
       "1024  0.221553  0.771738\n",
       "\n",
       "[1025 rows x 2 columns]"
      ]
     },
     "execution_count": 5,
     "metadata": {},
     "output_type": "execute_result"
    }
   ],
   "source": [
    "scaler = MinMaxScaler()\n",
    "MinMax_df = scaler.fit_transform(x)\n",
    "MinMax_df = pd.DataFrame(MinMax_df, columns=['x1','x2'])\n",
    "MinMax_df"
   ]
  },
  {
   "cell_type": "code",
   "execution_count": 6,
   "id": "f9da28a2",
   "metadata": {
    "ExecuteTime": {
     "end_time": "2022-07-03T04:47:14.278600Z",
     "start_time": "2022-07-03T04:47:14.257656Z"
    }
   },
   "outputs": [
    {
     "data": {
      "text/html": [
       "<div>\n",
       "<style scoped>\n",
       "    .dataframe tbody tr th:only-of-type {\n",
       "        vertical-align: middle;\n",
       "    }\n",
       "\n",
       "    .dataframe tbody tr th {\n",
       "        vertical-align: top;\n",
       "    }\n",
       "\n",
       "    .dataframe thead th {\n",
       "        text-align: right;\n",
       "    }\n",
       "</style>\n",
       "<table border=\"1\" class=\"dataframe\">\n",
       "  <thead>\n",
       "    <tr style=\"text-align: right;\">\n",
       "      <th></th>\n",
       "      <th>x1</th>\n",
       "      <th>x2</th>\n",
       "    </tr>\n",
       "  </thead>\n",
       "  <tbody>\n",
       "    <tr>\n",
       "      <th>0</th>\n",
       "      <td>0.056963</td>\n",
       "      <td>-0.018842</td>\n",
       "    </tr>\n",
       "    <tr>\n",
       "      <th>1</th>\n",
       "      <td>1.545586</td>\n",
       "      <td>0.740882</td>\n",
       "    </tr>\n",
       "    <tr>\n",
       "      <th>2</th>\n",
       "      <td>-1.087603</td>\n",
       "      <td>-1.372996</td>\n",
       "    </tr>\n",
       "    <tr>\n",
       "      <th>3</th>\n",
       "      <td>-0.402949</td>\n",
       "      <td>-0.526478</td>\n",
       "    </tr>\n",
       "    <tr>\n",
       "      <th>4</th>\n",
       "      <td>0.063374</td>\n",
       "      <td>0.313210</td>\n",
       "    </tr>\n",
       "    <tr>\n",
       "      <th>...</th>\n",
       "      <td>...</td>\n",
       "      <td>...</td>\n",
       "    </tr>\n",
       "    <tr>\n",
       "      <th>1020</th>\n",
       "      <td>-8.079217</td>\n",
       "      <td>6.723723</td>\n",
       "    </tr>\n",
       "    <tr>\n",
       "      <th>1021</th>\n",
       "      <td>-8.306902</td>\n",
       "      <td>6.989619</td>\n",
       "    </tr>\n",
       "    <tr>\n",
       "      <th>1022</th>\n",
       "      <td>-7.607283</td>\n",
       "      <td>6.847427</td>\n",
       "    </tr>\n",
       "    <tr>\n",
       "      <th>1023</th>\n",
       "      <td>-5.754672</td>\n",
       "      <td>6.604605</td>\n",
       "    </tr>\n",
       "    <tr>\n",
       "      <th>1024</th>\n",
       "      <td>-6.127602</td>\n",
       "      <td>6.073273</td>\n",
       "    </tr>\n",
       "  </tbody>\n",
       "</table>\n",
       "<p>1025 rows × 2 columns</p>\n",
       "</div>"
      ],
      "text/plain": [
       "            x1        x2\n",
       "0     0.056963 -0.018842\n",
       "1     1.545586  0.740882\n",
       "2    -1.087603 -1.372996\n",
       "3    -0.402949 -0.526478\n",
       "4     0.063374  0.313210\n",
       "...        ...       ...\n",
       "1020 -8.079217  6.723723\n",
       "1021 -8.306902  6.989619\n",
       "1022 -7.607283  6.847427\n",
       "1023 -5.754672  6.604605\n",
       "1024 -6.127602  6.073273\n",
       "\n",
       "[1025 rows x 2 columns]"
      ]
     },
     "execution_count": 6,
     "metadata": {},
     "output_type": "execute_result"
    }
   ],
   "source": [
    "scaler = RobustScaler()\n",
    "Robust_df = scaler.fit_transform(x)\n",
    "Robust_df = pd.DataFrame(Robust_df, columns=['x1','x2'])\n",
    "Robust_df"
   ]
  },
  {
   "cell_type": "code",
   "execution_count": 7,
   "id": "1153ee03",
   "metadata": {
    "ExecuteTime": {
     "end_time": "2022-07-03T04:47:15.251581Z",
     "start_time": "2022-07-03T04:47:14.286579Z"
    }
   },
   "outputs": [
    {
     "data": {
      "image/png": "[encoded data removed]",
      "text/plain": [
       "<Figure size 1440x360 with 4 Axes>"
      ]
     },
     "metadata": {
      "needs_background": "light"
     },
     "output_type": "display_data"
    }
   ],
   "source": [
    "fig , (ax1, ax2, ax3, ax4) = plt.subplots(ncols=4, figsize=(20,5))\n",
    "ax1.set_title('Before Scaling')\n",
    "sns.kdeplot(x['x1'], ax=ax1, color='r') \n",
    "sns.kdeplot(x['x2'], ax=ax1, color='b')\n",
    "\n",
    "ax2.set_title('Standard Scaling')\n",
    "sns.kdeplot(standard_df['x1'], ax=ax2, color='r')\n",
    "sns.kdeplot(standard_df['x2'], ax=ax2, color='b')\n",
    "\n",
    "ax3.set_title('Minmax Scaling')\n",
    "sns.kdeplot(MinMax_df['x1'], ax=ax3, color='r')\n",
    "sns.kdeplot(MinMax_df['x2'], ax=ax3, color='b')\n",
    "\n",
    "ax4.set_title('Robust Scaling')\n",
    "sns.kdeplot(Robust_df['x1'], ax=ax4, color='r')\n",
    "sns.kdeplot(Robust_df['x2'], ax=ax4, color='b')\n",
    "\n",
    "plt.show()"
   ]
  },
  {
   "cell_type": "code",
   "execution_count": 8,
   "id": "77634bf5",
   "metadata": {
    "ExecuteTime": {
     "end_time": "2022-07-03T04:47:15.295427Z",
     "start_time": "2022-07-03T04:47:15.254537Z"
    }
   },
   "outputs": [
    {
     "name": "stdout",
     "output_type": "stream",
     "text": [
      "feature 들의 평균 값\n",
      "sepal length (cm)    5.843333\n",
      "sepal width (cm)     3.057333\n",
      "petal length (cm)    3.758000\n",
      "petal width (cm)     1.199333\n",
      "dtype: float64\n",
      "\n",
      "feature 들의 분산 값\n",
      "sepal length (cm)    0.685694\n",
      "sepal width (cm)     0.189979\n",
      "petal length (cm)    3.116278\n",
      "petal width (cm)     0.581006\n",
      "dtype: float64\n"
     ]
    }
   ],
   "source": [
    "from sklearn.datasets import load_iris\n",
    "import pandas as pd\n",
    "\n",
    "iris = load_iris()\n",
    "iris_data = iris.data\n",
    "iris_df = pd.DataFrame(data=iris_data, columns=iris.feature_names)\n",
    "\n",
    "print('feature 들의 평균 값')\n",
    "print(iris_df.mean())\n",
    "print('\\nfeature 들의 분산 값')\n",
    "print(iris_df.var())"
   ]
  },
  {
   "cell_type": "code",
   "execution_count": 9,
   "id": "e26816d3",
   "metadata": {
    "ExecuteTime": {
     "end_time": "2022-07-03T04:47:15.524813Z",
     "start_time": "2022-07-03T04:47:15.299417Z"
    }
   },
   "outputs": [
    {
     "data": {
      "image/png": "[encoded data removed]",
      "text/plain": [
       "<Figure size 432x288 with 1 Axes>"
      ]
     },
     "metadata": {
      "needs_background": "light"
     },
     "output_type": "display_data"
    }
   ],
   "source": [
    "sns.kdeplot(iris_df['sepal length (cm)'])\n",
    "sns.kdeplot(iris_df['sepal width (cm)'])\n",
    "sns.kdeplot(iris_df['petal length (cm)'])\n",
    "sns.kdeplot(iris_df['petal width (cm)'])\n",
    "plt.show()"
   ]
  },
  {
   "cell_type": "markdown",
   "id": "2ca3b19c",
   "metadata": {},
   "source": [
    "## StandardScaler\n",
    "* 평균이 0이고 분산이 1인 정규분포 형태로 변환\n",
    "* https://scikit-learn.org/stable/modules/generated/sklearn.preprocessing.StandardScaler.html?highlight=standard#sklearn.preprocessing.StandardScaler(참고 사이트)\n"
   ]
  },
  {
   "cell_type": "code",
   "execution_count": 10,
   "id": "7a1c5acd",
   "metadata": {
    "ExecuteTime": {
     "end_time": "2022-07-03T04:47:15.565219Z",
     "start_time": "2022-07-03T04:47:15.530811Z"
    },
    "scrolled": true
   },
   "outputs": [
    {
     "name": "stdout",
     "output_type": "stream",
     "text": [
      "feature 들의 평균 값\n",
      "sepal length (cm)   -1.690315e-15\n",
      "sepal width (cm)    -1.842970e-15\n",
      "petal length (cm)   -1.698641e-15\n",
      "petal width (cm)    -1.409243e-15\n",
      "dtype: float64\n",
      "\n",
      "feature 들의 분산 값\n",
      "sepal length (cm)    1.006711\n",
      "sepal width (cm)     1.006711\n",
      "petal length (cm)    1.006711\n",
      "petal width (cm)     1.006711\n",
      "dtype: float64\n"
     ]
    },
    {
     "data": {
      "text/html": [
       "<div>\n",
       "<style scoped>\n",
       "    .dataframe tbody tr th:only-of-type {\n",
       "        vertical-align: middle;\n",
       "    }\n",
       "\n",
       "    .dataframe tbody tr th {\n",
       "        vertical-align: top;\n",
       "    }\n",
       "\n",
       "    .dataframe thead th {\n",
       "        text-align: right;\n",
       "    }\n",
       "</style>\n",
       "<table border=\"1\" class=\"dataframe\">\n",
       "  <thead>\n",
       "    <tr style=\"text-align: right;\">\n",
       "      <th></th>\n",
       "      <th>sepal length (cm)</th>\n",
       "      <th>sepal width (cm)</th>\n",
       "      <th>petal length (cm)</th>\n",
       "      <th>petal width (cm)</th>\n",
       "    </tr>\n",
       "  </thead>\n",
       "  <tbody>\n",
       "    <tr>\n",
       "      <th>0</th>\n",
       "      <td>-0.900681</td>\n",
       "      <td>1.019004</td>\n",
       "      <td>-1.340227</td>\n",
       "      <td>-1.315444</td>\n",
       "    </tr>\n",
       "    <tr>\n",
       "      <th>1</th>\n",
       "      <td>-1.143017</td>\n",
       "      <td>-0.131979</td>\n",
       "      <td>-1.340227</td>\n",
       "      <td>-1.315444</td>\n",
       "    </tr>\n",
       "    <tr>\n",
       "      <th>2</th>\n",
       "      <td>-1.385353</td>\n",
       "      <td>0.328414</td>\n",
       "      <td>-1.397064</td>\n",
       "      <td>-1.315444</td>\n",
       "    </tr>\n",
       "    <tr>\n",
       "      <th>3</th>\n",
       "      <td>-1.506521</td>\n",
       "      <td>0.098217</td>\n",
       "      <td>-1.283389</td>\n",
       "      <td>-1.315444</td>\n",
       "    </tr>\n",
       "    <tr>\n",
       "      <th>4</th>\n",
       "      <td>-1.021849</td>\n",
       "      <td>1.249201</td>\n",
       "      <td>-1.340227</td>\n",
       "      <td>-1.315444</td>\n",
       "    </tr>\n",
       "    <tr>\n",
       "      <th>...</th>\n",
       "      <td>...</td>\n",
       "      <td>...</td>\n",
       "      <td>...</td>\n",
       "      <td>...</td>\n",
       "    </tr>\n",
       "    <tr>\n",
       "      <th>145</th>\n",
       "      <td>1.038005</td>\n",
       "      <td>-0.131979</td>\n",
       "      <td>0.819596</td>\n",
       "      <td>1.448832</td>\n",
       "    </tr>\n",
       "    <tr>\n",
       "      <th>146</th>\n",
       "      <td>0.553333</td>\n",
       "      <td>-1.282963</td>\n",
       "      <td>0.705921</td>\n",
       "      <td>0.922303</td>\n",
       "    </tr>\n",
       "    <tr>\n",
       "      <th>147</th>\n",
       "      <td>0.795669</td>\n",
       "      <td>-0.131979</td>\n",
       "      <td>0.819596</td>\n",
       "      <td>1.053935</td>\n",
       "    </tr>\n",
       "    <tr>\n",
       "      <th>148</th>\n",
       "      <td>0.432165</td>\n",
       "      <td>0.788808</td>\n",
       "      <td>0.933271</td>\n",
       "      <td>1.448832</td>\n",
       "    </tr>\n",
       "    <tr>\n",
       "      <th>149</th>\n",
       "      <td>0.068662</td>\n",
       "      <td>-0.131979</td>\n",
       "      <td>0.762758</td>\n",
       "      <td>0.790671</td>\n",
       "    </tr>\n",
       "  </tbody>\n",
       "</table>\n",
       "<p>150 rows × 4 columns</p>\n",
       "</div>"
      ],
      "text/plain": [
       "     sepal length (cm)  sepal width (cm)  petal length (cm)  petal width (cm)\n",
       "0            -0.900681          1.019004          -1.340227         -1.315444\n",
       "1            -1.143017         -0.131979          -1.340227         -1.315444\n",
       "2            -1.385353          0.328414          -1.397064         -1.315444\n",
       "3            -1.506521          0.098217          -1.283389         -1.315444\n",
       "4            -1.021849          1.249201          -1.340227         -1.315444\n",
       "..                 ...               ...                ...               ...\n",
       "145           1.038005         -0.131979           0.819596          1.448832\n",
       "146           0.553333         -1.282963           0.705921          0.922303\n",
       "147           0.795669         -0.131979           0.819596          1.053935\n",
       "148           0.432165          0.788808           0.933271          1.448832\n",
       "149           0.068662         -0.131979           0.762758          0.790671\n",
       "\n",
       "[150 rows x 4 columns]"
      ]
     },
     "execution_count": 10,
     "metadata": {},
     "output_type": "execute_result"
    }
   ],
   "source": [
    "from sklearn.preprocessing import StandardScaler\n",
    "\n",
    "#StandarScaler 객체 생성\n",
    "scaler = StandardScaler()\n",
    "#StandardScaler 로 데이터 셋 변환 fit()과 transform() 호출\n",
    "\n",
    "scaler.fit(iris_df)\n",
    "iris_scaled = scaler.transform(iris_df)\n",
    "\n",
    "#transform()시 scale 변환된 데이터 셋이 numpy ndarry로 반환되어 이를 DataFram으로 변환\n",
    "iris_df_scaled = pd.DataFrame(data=iris_scaled, columns = iris.feature_names)\n",
    "\n",
    "print('feature 들의 평균 값')\n",
    "print(iris_df_scaled.mean())\n",
    "print('\\nfeature 들의 분산 값')\n",
    "print(iris_df_scaled.var())\n",
    "iris_df_scaled \n"
   ]
  },
  {
   "cell_type": "code",
   "execution_count": 11,
   "id": "5a047dca",
   "metadata": {
    "ExecuteTime": {
     "end_time": "2022-07-03T04:47:15.584173Z",
     "start_time": "2022-07-03T04:47:15.571203Z"
    }
   },
   "outputs": [
    {
     "ename": "SyntaxError",
     "evalue": "cannot assign to function call (1045393349.py, line 5)",
     "output_type": "error",
     "traceback": [
      "\u001b[1;36m  Input \u001b[1;32mIn [11]\u001b[1;36m\u001b[0m\n\u001b[1;33m    plt.show()=\u001b[0m\n\u001b[1;37m    ^\u001b[0m\n\u001b[1;31mSyntaxError\u001b[0m\u001b[1;31m:\u001b[0m cannot assign to function call\n"
     ]
    }
   ],
   "source": [
    "sns.kdeplot(iris_df_scaled ['sepal length (cm)'])\n",
    "sns.kdeplot(iris_df_scaled ['sepal width (cm)'])\n",
    "sns.kdeplot(iris_df_scaled ['petal length (cm)'])\n",
    "sns.kdeplot(iris_df_scaled ['petal width (cm)'])\n",
    "plt.show()="
   ]
  },
  {
   "cell_type": "markdown",
   "id": "8c17fd82",
   "metadata": {},
   "source": [
    "## MinMaxScaler\n",
    "* 데이터값을 0과 1사이의 범위 값으로 변환합니다. 음수 값있으면 1에서 -1값으로 변환합니다.\n",
    "* https://scikit-learn.org/stable/modules/generated/sklearn.preprocessing.MinMaxScaler.html?highlight=minmax#sklearn.preprocessing.MinMaxScaler(참고 사이트)"
   ]
  },
  {
   "cell_type": "code",
   "execution_count": 12,
   "id": "e39fcaf7",
   "metadata": {
    "ExecuteTime": {
     "end_time": "2022-07-03T04:47:16.042163Z",
     "start_time": "2022-07-03T04:47:16.028165Z"
    }
   },
   "outputs": [
    {
     "name": "stdout",
     "output_type": "stream",
     "text": [
      "feature 들의 최소 값\n",
      "sepal length (cm)    0.0\n",
      "sepal width (cm)     0.0\n",
      "petal length (cm)    0.0\n",
      "petal width (cm)     0.0\n",
      "dtype: float64\n",
      "\n",
      "feature 들의 최대 값\n",
      "sepal length (cm)    1.0\n",
      "sepal width (cm)     1.0\n",
      "petal length (cm)    1.0\n",
      "petal width (cm)     1.0\n",
      "dtype: float64\n"
     ]
    }
   ],
   "source": [
    "from sklearn.datasets import load_iris\n",
    "from sklearn.preprocessing import MinMaxScaler\n",
    "#MinMaxScaler 객체 생성\n",
    "scaler = MinMaxScaler()\n",
    "# MinMaxScaler 로 데이터 셋 변환 fit()과 transform()호출\n",
    "scaler.fit(iris_df)\n",
    "iris_scaled = scaler.transform(iris_df)\n",
    "iris_df_scaled = pd.DataFrame(data= iris_scaled, columns=iris.feature_names)\n",
    "\n",
    "print('feature 들의 최소 값')\n",
    "print(iris_df_scaled.min())\n",
    "print('\\nfeature 들의 최대 값')\n",
    "print(iris_df_scaled.max())"
   ]
  },
  {
   "cell_type": "code",
   "execution_count": 13,
   "id": "0ca88490",
   "metadata": {
    "ExecuteTime": {
     "end_time": "2022-07-03T04:47:16.674964Z",
     "start_time": "2022-07-03T04:47:16.474973Z"
    },
    "scrolled": true
   },
   "outputs": [
    {
     "data": {
      "image/png": "[encoded data removed]",
      "text/plain": [
       "<Figure size 432x288 with 1 Axes>"
      ]
     },
     "metadata": {
      "needs_background": "light"
     },
     "output_type": "display_data"
    }
   ],
   "source": [
    "sns.kdeplot(iris_df_scaled['sepal length (cm)'])\n",
    "sns.kdeplot(iris_df_scaled['sepal width (cm)'])\n",
    "sns.kdeplot(iris_df_scaled['petal length (cm)'])\n",
    "sns.kdeplot(iris_df_scaled['petal width (cm)'])\n",
    "plt.show()"
   ]
  },
  {
   "cell_type": "markdown",
   "id": "b6638615",
   "metadata": {},
   "source": [
    "## RobustScaler\n",
    "* 이 스케일러는 중앙값을 제거하고 분위수 범위(기본값: 사분위수 범위)에 따라 데이터의 크기를 조정합니다. IQR은 1번째 사분위수(25번째 분위수)와 3번째 사분위수(75번째 분위수) 사이의 범위입니다.\n",
    "* RobustScaler(*, with_centering=True, with_scaling=True, quantile_range=(25.0, 75.0), copy= 참, unit_variance=거짓)\n",
    "* https://scikit-learn.org/stable/modules/generated/sklearn.preprocessing.RobustScaler.html?highlight=robust#sklearn.preprocessing.RobustScaler (참고사이트)"
   ]
  },
  {
   "cell_type": "code",
   "execution_count": null,
   "id": "25283a9a",
   "metadata": {
    "ExecuteTime": {
     "end_time": "2022-07-01T07:37:41.870313Z",
     "start_time": "2022-07-01T07:37:41.854353Z"
    }
   },
   "outputs": [],
   "source": [
    "scaler = RobustScaler()\n",
    "Robust_df = scaler.fit_transform(x)\n",
    "Robust_df = pd.DataFrame(Robust_df, columns=['x1','x2'])\n",
    "Robust_df"
   ]
  },
  {
   "cell_type": "code",
   "execution_count": 20,
   "id": "2fce24a6",
   "metadata": {
    "ExecuteTime": {
     "end_time": "2022-07-03T06:06:17.007098Z",
     "start_time": "2022-07-03T06:06:16.840958Z"
    }
   },
   "outputs": [
    {
     "name": "stdout",
     "output_type": "stream",
     "text": [
      "feature 들의 최소 값\n",
      "sepal length (cm)   -1.153846\n",
      "sepal width (cm)    -2.000000\n",
      "petal length (cm)   -0.957143\n",
      "petal width (cm)    -0.800000\n",
      "dtype: float64\n",
      "\n",
      "feature 들의 최대 값\n",
      "sepal length (cm)    1.615385\n",
      "sepal width (cm)     2.800000\n",
      "petal length (cm)    0.728571\n",
      "petal width (cm)     0.800000\n",
      "dtype: float64\n"
     ]
    }
   ],
   "source": [
    "from sklearn.datasets import load_iris\n",
    "from sklearn.preprocessing import RobustScaler\n",
    "#MinMaxScaler 객체 생성\n",
    "scaler = RobustScaler()\n",
    "# MinMaxScaler 로 데이터 셋 변환 fit()과 transform()호출\n",
    "scaler.fit(iris_df)\n",
    "iris_scaled = scaler.transform(iris_df)\n",
    "iris_df_scaled = pd.DataFrame(data= iris_scaled, columns=iris.feature_names)\n",
    "\n",
    "print('feature 들의 최소 값')\n",
    "print(iris_df_scaled.min())\n",
    "print('\\nfeature 들의 최대 값')\n",
    "print(iris_df_scaled.max())"
   ]
  },
  {
   "cell_type": "code",
   "execution_count": 22,
   "id": "c17415a6",
   "metadata": {
    "ExecuteTime": {
     "end_time": "2022-07-03T06:06:35.809177Z",
     "start_time": "2022-07-03T06:06:35.058921Z"
    }
   },
   "outputs": [
    {
     "data": {
      "image/png": "[encoded data removed]",
      "text/plain": [
       "<Figure size 432x288 with 1 Axes>"
      ]
     },
     "metadata": {
      "needs_background": "light"
     },
     "output_type": "display_data"
    }
   ],
   "source": [
    "sns.kdeplot(iris_df_scaled ['sepal length (cm)'])\n",
    "sns.kdeplot(iris_df_scaled ['sepal width (cm)'])\n",
    "sns.kdeplot(iris_df_scaled ['petal length (cm)'])\n",
    "sns.kdeplot(iris_df_scaled ['petal width (cm)'])\n",
    "plt.show()"
   ]
  },
  {
   "cell_type": "code",
   "execution_count": null,
   "id": "960bafb7",
   "metadata": {},
   "outputs": [],
   "source": []
  }
 ],
 "metadata": {
  "kernelspec": {
   "display_name": "Python 3 (ipykernel)",
   "language": "python",
   "name": "python3"
  },
  "language_info": {
   "codemirror_mode": {
    "name": "ipython",
    "version": 3
   },
   "file_extension": ".py",
   "mimetype": "text/x-python",
   "name": "python",
   "nbconvert_exporter": "python",
   "pygments_lexer": "ipython3",
   "version": "3.10.0"
  },
  "toc": {
   "base_numbering": 1,
   "nav_menu": {},
   "number_sections": true,
   "sideBar": true,
   "skip_h1_title": false,
   "title_cell": "Table of Contents",
   "title_sidebar": "Contents",
   "toc_cell": false,
   "toc_position": {},
   "toc_section_display": true,
   "toc_window_display": false
  }
 },
 "nbformat": 4,
 "nbformat_minor": 5
}
