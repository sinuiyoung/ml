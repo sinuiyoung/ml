{
 "cells": [
  {
   "cell_type": "code",
   "execution_count": 2,
   "id": "31a2b8a5",
   "metadata": {
    "ExecuteTime": {
     "end_time": "2022-07-01T01:03:54.657004Z",
     "start_time": "2022-07-01T01:03:46.196697Z"
    }
   },
   "outputs": [],
   "source": [
    "from sklearn import preprocessing\n",
    "from sklearn.preprocessing import LabelEncoder\n",
    "# 성은 남자 나이는 평균 엠바크드는 s"
   ]
  },
  {
   "cell_type": "markdown",
   "id": "21d72e21",
   "metadata": {},
   "source": [
    "### sklearn.preprocessing.LabelEncoder\n",
    "* "
   ]
  },
  {
   "cell_type": "code",
   "execution_count": 82,
   "id": "2b2a9053",
   "metadata": {
    "ExecuteTime": {
     "end_time": "2022-07-01T01:24:12.013389Z",
     "start_time": "2022-07-01T01:24:12.004448Z"
    }
   },
   "outputs": [
    {
     "name": "stdout",
     "output_type": "stream",
     "text": [
      "인코딩 변환값: [0 1 4 5 3 3 2 2]\n"
     ]
    }
   ],
   "source": [
    "items = ['TV', '냉장고', '전자랜지', '컴퓨터', '선풍기', '선풍기', '믹서','믹서']\n",
    "\n",
    "encoder = LabelEncoder()\n",
    "encoder.fit(items)\n",
    "labels = encoder.transform(items)\n",
    "print('인코딩 변환값:', labels)"
   ]
  },
  {
   "cell_type": "code",
   "execution_count": 83,
   "id": "a05af69e",
   "metadata": {
    "ExecuteTime": {
     "end_time": "2022-07-01T01:24:12.176586Z",
     "start_time": "2022-07-01T01:24:12.169604Z"
    }
   },
   "outputs": [
    {
     "name": "stdout",
     "output_type": "stream",
     "text": [
      "인코딩 클래스: ['TV' '냉장고' '믹서' '선풍기' '전자랜지' '컴퓨터']\n"
     ]
    }
   ],
   "source": [
    "print('인코딩 클래스:', encoder.classes_)"
   ]
  },
  {
   "cell_type": "code",
   "execution_count": 84,
   "id": "5ad58d5b",
   "metadata": {
    "ExecuteTime": {
     "end_time": "2022-07-01T01:24:12.355407Z",
     "start_time": "2022-07-01T01:24:12.345358Z"
    }
   },
   "outputs": [
    {
     "name": "stdout",
     "output_type": "stream",
     "text": [
      "디코딩 원본 값: ['전자랜지' '컴퓨터' '믹서' 'TV' '냉장고' '냉장고' '선풍기' '선풍기']\n"
     ]
    }
   ],
   "source": [
    "print('디코딩 원본 값:', encoder.inverse_transform([4,5,2,0,1,1,3,3]))"
   ]
  },
  {
   "cell_type": "code",
   "execution_count": 137,
   "id": "e9fb5f87",
   "metadata": {
    "ExecuteTime": {
     "end_time": "2022-07-01T01:47:14.378914Z",
     "start_time": "2022-07-01T01:47:14.370355Z"
    }
   },
   "outputs": [],
   "source": [
    "import pandas as pd\n",
    "import numpy as np"
   ]
  },
  {
   "cell_type": "code",
   "execution_count": 138,
   "id": "5ab3ef53",
   "metadata": {
    "ExecuteTime": {
     "end_time": "2022-07-01T01:47:14.548091Z",
     "start_time": "2022-07-01T01:47:14.527521Z"
    }
   },
   "outputs": [],
   "source": [
    "Titanic = pd.read_csv(\"./train.csv\")"
   ]
  },
  {
   "cell_type": "code",
   "execution_count": 139,
   "id": "2e0d52ea",
   "metadata": {
    "ExecuteTime": {
     "end_time": "2022-07-01T01:47:14.759099Z",
     "start_time": "2022-07-01T01:47:14.712224Z"
    }
   },
   "outputs": [
    {
     "data": {
      "text/html": [
       "<div>\n",
       "<style scoped>\n",
       "    .dataframe tbody tr th:only-of-type {\n",
       "        vertical-align: middle;\n",
       "    }\n",
       "\n",
       "    .dataframe tbody tr th {\n",
       "        vertical-align: top;\n",
       "    }\n",
       "\n",
       "    .dataframe thead th {\n",
       "        text-align: right;\n",
       "    }\n",
       "</style>\n",
       "<table border=\"1\" class=\"dataframe\">\n",
       "  <thead>\n",
       "    <tr style=\"text-align: right;\">\n",
       "      <th></th>\n",
       "      <th>PassengerId</th>\n",
       "      <th>Survived</th>\n",
       "      <th>Pclass</th>\n",
       "      <th>Name</th>\n",
       "      <th>Sex</th>\n",
       "      <th>Age</th>\n",
       "      <th>SibSp</th>\n",
       "      <th>Parch</th>\n",
       "      <th>Ticket</th>\n",
       "      <th>Fare</th>\n",
       "      <th>Cabin</th>\n",
       "      <th>Embarked</th>\n",
       "    </tr>\n",
       "  </thead>\n",
       "  <tbody>\n",
       "    <tr>\n",
       "      <th>0</th>\n",
       "      <td>1</td>\n",
       "      <td>0</td>\n",
       "      <td>3</td>\n",
       "      <td>Braund, Mr. Owen Harris</td>\n",
       "      <td>male</td>\n",
       "      <td>22.0</td>\n",
       "      <td>1</td>\n",
       "      <td>0</td>\n",
       "      <td>A/5 21171</td>\n",
       "      <td>7.2500</td>\n",
       "      <td>NaN</td>\n",
       "      <td>S</td>\n",
       "    </tr>\n",
       "    <tr>\n",
       "      <th>1</th>\n",
       "      <td>2</td>\n",
       "      <td>1</td>\n",
       "      <td>1</td>\n",
       "      <td>Cumings, Mrs. John Bradley (Florence Briggs Th...</td>\n",
       "      <td>female</td>\n",
       "      <td>38.0</td>\n",
       "      <td>1</td>\n",
       "      <td>0</td>\n",
       "      <td>PC 17599</td>\n",
       "      <td>71.2833</td>\n",
       "      <td>C85</td>\n",
       "      <td>C</td>\n",
       "    </tr>\n",
       "    <tr>\n",
       "      <th>2</th>\n",
       "      <td>3</td>\n",
       "      <td>1</td>\n",
       "      <td>3</td>\n",
       "      <td>Heikkinen, Miss. Laina</td>\n",
       "      <td>female</td>\n",
       "      <td>26.0</td>\n",
       "      <td>0</td>\n",
       "      <td>0</td>\n",
       "      <td>STON/O2. 3101282</td>\n",
       "      <td>7.9250</td>\n",
       "      <td>NaN</td>\n",
       "      <td>S</td>\n",
       "    </tr>\n",
       "    <tr>\n",
       "      <th>3</th>\n",
       "      <td>4</td>\n",
       "      <td>1</td>\n",
       "      <td>1</td>\n",
       "      <td>Futrelle, Mrs. Jacques Heath (Lily May Peel)</td>\n",
       "      <td>female</td>\n",
       "      <td>35.0</td>\n",
       "      <td>1</td>\n",
       "      <td>0</td>\n",
       "      <td>113803</td>\n",
       "      <td>53.1000</td>\n",
       "      <td>C123</td>\n",
       "      <td>S</td>\n",
       "    </tr>\n",
       "    <tr>\n",
       "      <th>4</th>\n",
       "      <td>5</td>\n",
       "      <td>0</td>\n",
       "      <td>3</td>\n",
       "      <td>Allen, Mr. William Henry</td>\n",
       "      <td>male</td>\n",
       "      <td>35.0</td>\n",
       "      <td>0</td>\n",
       "      <td>0</td>\n",
       "      <td>373450</td>\n",
       "      <td>8.0500</td>\n",
       "      <td>NaN</td>\n",
       "      <td>S</td>\n",
       "    </tr>\n",
       "    <tr>\n",
       "      <th>...</th>\n",
       "      <td>...</td>\n",
       "      <td>...</td>\n",
       "      <td>...</td>\n",
       "      <td>...</td>\n",
       "      <td>...</td>\n",
       "      <td>...</td>\n",
       "      <td>...</td>\n",
       "      <td>...</td>\n",
       "      <td>...</td>\n",
       "      <td>...</td>\n",
       "      <td>...</td>\n",
       "      <td>...</td>\n",
       "    </tr>\n",
       "    <tr>\n",
       "      <th>886</th>\n",
       "      <td>887</td>\n",
       "      <td>0</td>\n",
       "      <td>2</td>\n",
       "      <td>Montvila, Rev. Juozas</td>\n",
       "      <td>male</td>\n",
       "      <td>27.0</td>\n",
       "      <td>0</td>\n",
       "      <td>0</td>\n",
       "      <td>211536</td>\n",
       "      <td>13.0000</td>\n",
       "      <td>NaN</td>\n",
       "      <td>S</td>\n",
       "    </tr>\n",
       "    <tr>\n",
       "      <th>887</th>\n",
       "      <td>888</td>\n",
       "      <td>1</td>\n",
       "      <td>1</td>\n",
       "      <td>Graham, Miss. Margaret Edith</td>\n",
       "      <td>female</td>\n",
       "      <td>19.0</td>\n",
       "      <td>0</td>\n",
       "      <td>0</td>\n",
       "      <td>112053</td>\n",
       "      <td>30.0000</td>\n",
       "      <td>B42</td>\n",
       "      <td>S</td>\n",
       "    </tr>\n",
       "    <tr>\n",
       "      <th>888</th>\n",
       "      <td>889</td>\n",
       "      <td>0</td>\n",
       "      <td>3</td>\n",
       "      <td>Johnston, Miss. Catherine Helen \"Carrie\"</td>\n",
       "      <td>female</td>\n",
       "      <td>NaN</td>\n",
       "      <td>1</td>\n",
       "      <td>2</td>\n",
       "      <td>W./C. 6607</td>\n",
       "      <td>23.4500</td>\n",
       "      <td>NaN</td>\n",
       "      <td>S</td>\n",
       "    </tr>\n",
       "    <tr>\n",
       "      <th>889</th>\n",
       "      <td>890</td>\n",
       "      <td>1</td>\n",
       "      <td>1</td>\n",
       "      <td>Behr, Mr. Karl Howell</td>\n",
       "      <td>male</td>\n",
       "      <td>26.0</td>\n",
       "      <td>0</td>\n",
       "      <td>0</td>\n",
       "      <td>111369</td>\n",
       "      <td>30.0000</td>\n",
       "      <td>C148</td>\n",
       "      <td>C</td>\n",
       "    </tr>\n",
       "    <tr>\n",
       "      <th>890</th>\n",
       "      <td>891</td>\n",
       "      <td>0</td>\n",
       "      <td>3</td>\n",
       "      <td>Dooley, Mr. Patrick</td>\n",
       "      <td>male</td>\n",
       "      <td>32.0</td>\n",
       "      <td>0</td>\n",
       "      <td>0</td>\n",
       "      <td>370376</td>\n",
       "      <td>7.7500</td>\n",
       "      <td>NaN</td>\n",
       "      <td>Q</td>\n",
       "    </tr>\n",
       "  </tbody>\n",
       "</table>\n",
       "<p>891 rows × 12 columns</p>\n",
       "</div>"
      ],
      "text/plain": [
       "     PassengerId  Survived  Pclass  \\\n",
       "0              1         0       3   \n",
       "1              2         1       1   \n",
       "2              3         1       3   \n",
       "3              4         1       1   \n",
       "4              5         0       3   \n",
       "..           ...       ...     ...   \n",
       "886          887         0       2   \n",
       "887          888         1       1   \n",
       "888          889         0       3   \n",
       "889          890         1       1   \n",
       "890          891         0       3   \n",
       "\n",
       "                                                  Name     Sex   Age  SibSp  \\\n",
       "0                              Braund, Mr. Owen Harris    male  22.0      1   \n",
       "1    Cumings, Mrs. John Bradley (Florence Briggs Th...  female  38.0      1   \n",
       "2                               Heikkinen, Miss. Laina  female  26.0      0   \n",
       "3         Futrelle, Mrs. Jacques Heath (Lily May Peel)  female  35.0      1   \n",
       "4                             Allen, Mr. William Henry    male  35.0      0   \n",
       "..                                                 ...     ...   ...    ...   \n",
       "886                              Montvila, Rev. Juozas    male  27.0      0   \n",
       "887                       Graham, Miss. Margaret Edith  female  19.0      0   \n",
       "888           Johnston, Miss. Catherine Helen \"Carrie\"  female   NaN      1   \n",
       "889                              Behr, Mr. Karl Howell    male  26.0      0   \n",
       "890                                Dooley, Mr. Patrick    male  32.0      0   \n",
       "\n",
       "     Parch            Ticket     Fare Cabin Embarked  \n",
       "0        0         A/5 21171   7.2500   NaN        S  \n",
       "1        0          PC 17599  71.2833   C85        C  \n",
       "2        0  STON/O2. 3101282   7.9250   NaN        S  \n",
       "3        0            113803  53.1000  C123        S  \n",
       "4        0            373450   8.0500   NaN        S  \n",
       "..     ...               ...      ...   ...      ...  \n",
       "886      0            211536  13.0000   NaN        S  \n",
       "887      0            112053  30.0000   B42        S  \n",
       "888      2        W./C. 6607  23.4500   NaN        S  \n",
       "889      0            111369  30.0000  C148        C  \n",
       "890      0            370376   7.7500   NaN        Q  \n",
       "\n",
       "[891 rows x 12 columns]"
      ]
     },
     "execution_count": 139,
     "metadata": {},
     "output_type": "execute_result"
    }
   ],
   "source": [
    "Titanic"
   ]
  },
  {
   "cell_type": "code",
   "execution_count": 140,
   "id": "67d8ef6e",
   "metadata": {
    "ExecuteTime": {
     "end_time": "2022-07-01T01:47:14.861824Z",
     "start_time": "2022-07-01T01:47:14.848858Z"
    }
   },
   "outputs": [],
   "source": [
    "# corona_df.drop(\"Unnamed: 0\", axis = 1, inplace= True)\n",
    "Titanic.drop(\"Pclass\", axis = 1, inplace= True)\n",
    "Titanic.drop(\"PassengerId\", axis = 1, inplace= True)"
   ]
  },
  {
   "cell_type": "code",
   "execution_count": 141,
   "id": "57c430a7",
   "metadata": {
    "ExecuteTime": {
     "end_time": "2022-07-01T01:47:15.029019Z",
     "start_time": "2022-07-01T01:47:15.009037Z"
    }
   },
   "outputs": [],
   "source": [
    "Titanic.drop(\"Name\", axis = 1, inplace= True)\n",
    "Titanic.drop(\"SibSp\", axis = 1, inplace= True)\n",
    "Titanic.drop(\"Parch\", axis = 1, inplace= True)\n",
    "Titanic.drop(\"Ticket\", axis = 1, inplace= True)\n",
    "Titanic.drop(\"Fare\", axis = 1, inplace= True)"
   ]
  },
  {
   "cell_type": "code",
   "execution_count": 142,
   "id": "c880be16",
   "metadata": {
    "ExecuteTime": {
     "end_time": "2022-07-01T01:47:15.184872Z",
     "start_time": "2022-07-01T01:47:15.171718Z"
    }
   },
   "outputs": [],
   "source": [
    "Titanic.drop(\"Cabin\", axis = 1, inplace= True)\n"
   ]
  },
  {
   "cell_type": "code",
   "execution_count": 143,
   "id": "1b611e0c",
   "metadata": {
    "ExecuteTime": {
     "end_time": "2022-07-01T01:47:15.374027Z",
     "start_time": "2022-07-01T01:47:15.354821Z"
    }
   },
   "outputs": [
    {
     "data": {
      "text/plain": [
       "Survived      0\n",
       "Sex           0\n",
       "Age         177\n",
       "Embarked      2\n",
       "dtype: int64"
      ]
     },
     "execution_count": 143,
     "metadata": {},
     "output_type": "execute_result"
    }
   ],
   "source": [
    "Titanic.isna().sum()"
   ]
  },
  {
   "cell_type": "code",
   "execution_count": 144,
   "id": "c0804cb1",
   "metadata": {
    "ExecuteTime": {
     "end_time": "2022-07-01T01:47:15.618373Z",
     "start_time": "2022-07-01T01:47:15.602417Z"
    }
   },
   "outputs": [
    {
     "data": {
      "text/plain": [
       "29.69911764705882"
      ]
     },
     "execution_count": 144,
     "metadata": {},
     "output_type": "execute_result"
    }
   ],
   "source": [
    "Titanic[\"Age\"].mean()"
   ]
  },
  {
   "cell_type": "code",
   "execution_count": 145,
   "id": "4ddf5b52",
   "metadata": {
    "ExecuteTime": {
     "end_time": "2022-07-01T01:47:15.894635Z",
     "start_time": "2022-07-01T01:47:15.867706Z"
    }
   },
   "outputs": [
    {
     "name": "stdout",
     "output_type": "stream",
     "text": [
      "<class 'pandas.core.frame.DataFrame'>\n",
      "RangeIndex: 891 entries, 0 to 890\n",
      "Data columns (total 4 columns):\n",
      " #   Column    Non-Null Count  Dtype  \n",
      "---  ------    --------------  -----  \n",
      " 0   Survived  891 non-null    int64  \n",
      " 1   Sex       891 non-null    object \n",
      " 2   Age       714 non-null    float64\n",
      " 3   Embarked  889 non-null    object \n",
      "dtypes: float64(1), int64(1), object(2)\n",
      "memory usage: 28.0+ KB\n"
     ]
    }
   ],
   "source": [
    "Titanic.info()"
   ]
  },
  {
   "cell_type": "code",
   "execution_count": 146,
   "id": "95c7d4c1",
   "metadata": {
    "ExecuteTime": {
     "end_time": "2022-07-01T01:47:16.147957Z",
     "start_time": "2022-07-01T01:47:16.129006Z"
    }
   },
   "outputs": [
    {
     "data": {
      "text/plain": [
       "0      22.000000\n",
       "1      38.000000\n",
       "2      26.000000\n",
       "3      35.000000\n",
       "4      35.000000\n",
       "         ...    \n",
       "886    27.000000\n",
       "887    19.000000\n",
       "888    29.699118\n",
       "889    26.000000\n",
       "890    32.000000\n",
       "Name: Age, Length: 891, dtype: float64"
      ]
     },
     "execution_count": 146,
     "metadata": {},
     "output_type": "execute_result"
    }
   ],
   "source": [
    "Titanic[\"Age\"].fillna(Titanic[\"Age\"].mean())"
   ]
  },
  {
   "cell_type": "code",
   "execution_count": 147,
   "id": "3f4481f7",
   "metadata": {
    "ExecuteTime": {
     "end_time": "2022-07-01T01:47:16.452324Z",
     "start_time": "2022-07-01T01:47:16.437407Z"
    }
   },
   "outputs": [
    {
     "data": {
      "text/plain": [
       "0      S\n",
       "1      C\n",
       "2      S\n",
       "3      S\n",
       "4      S\n",
       "      ..\n",
       "886    S\n",
       "887    S\n",
       "888    S\n",
       "889    C\n",
       "890    Q\n",
       "Name: Embarked, Length: 891, dtype: object"
      ]
     },
     "execution_count": 147,
     "metadata": {},
     "output_type": "execute_result"
    }
   ],
   "source": [
    "Titanic[\"Embarked\"].fillna('S')"
   ]
  },
  {
   "cell_type": "code",
   "execution_count": 148,
   "id": "9ab14cda",
   "metadata": {
    "ExecuteTime": {
     "end_time": "2022-07-01T01:47:16.733184Z",
     "start_time": "2022-07-01T01:47:16.705337Z"
    },
    "scrolled": true
   },
   "outputs": [
    {
     "name": "stdout",
     "output_type": "stream",
     "text": [
      "<class 'pandas.core.frame.DataFrame'>\n",
      "RangeIndex: 891 entries, 0 to 890\n",
      "Data columns (total 4 columns):\n",
      " #   Column    Non-Null Count  Dtype  \n",
      "---  ------    --------------  -----  \n",
      " 0   Survived  891 non-null    int64  \n",
      " 1   Sex       891 non-null    object \n",
      " 2   Age       714 non-null    float64\n",
      " 3   Embarked  889 non-null    object \n",
      "dtypes: float64(1), int64(1), object(2)\n",
      "memory usage: 28.0+ KB\n"
     ]
    }
   ],
   "source": [
    "Titanic.info()"
   ]
  },
  {
   "cell_type": "code",
   "execution_count": 149,
   "id": "786d4a67",
   "metadata": {
    "ExecuteTime": {
     "end_time": "2022-07-01T01:47:16.970133Z",
     "start_time": "2022-07-01T01:47:16.961157Z"
    }
   },
   "outputs": [],
   "source": [
    "# Sex. Eebarked Encoding\n",
    "from sklearn.preprocessing import LabelEncoder\n",
    "\n",
    "encoder = LabelEncoder()\n",
    "Titanic=encoder.fit_transform(Titanic[\"Age\"])"
   ]
  },
  {
   "cell_type": "code",
   "execution_count": 150,
   "id": "c37598f9",
   "metadata": {
    "ExecuteTime": {
     "end_time": "2022-07-01T01:47:17.685285Z",
     "start_time": "2022-07-01T01:47:17.629137Z"
    }
   },
   "outputs": [
    {
     "ename": "IndexError",
     "evalue": "only integers, slices (`:`), ellipsis (`...`), numpy.newaxis (`None`) and integer or boolean arrays are valid indices",
     "output_type": "error",
     "traceback": [
      "\u001b[1;31m---------------------------------------------------------------------------\u001b[0m",
      "\u001b[1;31mIndexError\u001b[0m                                Traceback (most recent call last)",
      "Input \u001b[1;32mIn [150]\u001b[0m, in \u001b[0;36m<cell line: 1>\u001b[1;34m()\u001b[0m\n\u001b[1;32m----> 1\u001b[0m Titanic\u001b[38;5;241m=\u001b[39mencoder\u001b[38;5;241m.\u001b[39mfit_transform(\u001b[43mTitanic\u001b[49m\u001b[43m[\u001b[49m\u001b[38;5;124;43m\"\u001b[39;49m\u001b[38;5;124;43mEmbarked\u001b[39;49m\u001b[38;5;124;43m\"\u001b[39;49m\u001b[43m]\u001b[49m)\n",
      "\u001b[1;31mIndexError\u001b[0m: only integers, slices (`:`), ellipsis (`...`), numpy.newaxis (`None`) and integer or boolean arrays are valid indices"
     ]
    }
   ],
   "source": [
    "Titanic=encoder.fit_transform(Titanic[\"Embarked\"])"
   ]
  },
  {
   "cell_type": "code",
   "execution_count": 152,
   "id": "62c1bf5c",
   "metadata": {
    "ExecuteTime": {
     "end_time": "2022-07-01T01:47:21.999535Z",
     "start_time": "2022-07-01T01:47:21.979589Z"
    }
   },
   "outputs": [
    {
     "data": {
      "text/plain": [
       "array([28, 51, 34, 47, 47, 88, 69,  6, 35, 18,  8, 74, 25, 52, 18, 70,  6,\n",
       "       88, 41, 88, 47, 45, 20, 36, 12, 51, 88, 24, 88, 88, 53, 88, 88, 82,\n",
       "       36, 56, 88, 27, 23, 18, 53, 35, 88,  7, 24, 88, 88, 88, 88, 23, 11,\n",
       "       27, 64, 38, 81, 88, 27, 37,  9, 15, 28, 51, 59,  8, 88, 88, 38, 24,\n",
       "       22, 34, 42, 21, 27, 34, 42, 33, 88, 88,  3, 39, 28, 38, 88, 36, 22,\n",
       "       44, 21, 88, 29, 31, 38, 25, 61, 34, 75, 88, 85, 29, 45, 45, 36, 88,\n",
       "       27, 44, 50, 36, 27, 88, 51, 88, 62, 19, 28, 25, 22, 27, 84, 38, 31,\n",
       "        6, 27, 88, 43, 43, 69, 16, 88, 31, 88, 59, 44, 25, 62, 38, 33, 29,\n",
       "       24, 50, 21, 31, 88, 28, 31, 24, 23, 24, 35, 13, 49, 56, 66, 28, 71,\n",
       "       54, 88, 66, 21, 39, 88, 88, 58, 53, 34, 22,  5, 13, 88, 59, 88, 36,\n",
       "       77,  8,  5, 27, 72, 23, 88, 65, 39, 48, 88, 88, 13,  5,  8, 88, 88,\n",
       "       59, 53, 48, 42, 24, 24,  7, 58, 74, 88, 56, 88, 31, 36, 88, 45, 60,\n",
       "       23,  6, 42, 34, 21, 53, 31, 47, 28, 39, 88, 41, 35, 56, 42, 39, 21,\n",
       "       35, 66, 88, 51, 28, 24, 26, 23, 88, 47, 38, 75,  9, 31, 88, 58, 12,\n",
       "       24, 44, 88, 88, 38, 28, 39, 58, 33, 31, 50, 69, 88, 38, 78, 39, 55,\n",
       "       38, 88, 39, 47, 65, 88,  7, 67, 53, 88, 48, 21, 33, 74, 47, 88, 33,\n",
       "       55, 50, 88, 79, 59, 88, 11, 47, 81, 36, 21, 24, 88, 44, 39, 28, 56,\n",
       "       28, 34, 24, 48, 31, 31, 88, 30,  6, 88, 65, 88, 88, 24, 88, 88,  4,\n",
       "       88, 22, 39, 39, 31, 23, 34, 36, 57, 34, 31, 69, 41, 53, 28, 35, 39,\n",
       "       28, 88, 48, 77, 48, 41, 21, 88, 60, 51, 21, 88, 88, 38, 55, 59, 59,\n",
       "        6, 31, 36, 33, 48, 31, 53, 88,  7, 56, 29, 88, 20, 33, 88, 36, 28,\n",
       "       51, 88, 88, 53, 38, 59, 47, 88, 39, 76, 88, 88, 31, 33, 23, 24, 28,\n",
       "        7, 88, 28, 35, 25, 24, 56,  5, 42, 47, 88, 23,  5, 48, 88, 22, 48,\n",
       "       27, 36, 29, 31, 28, 41, 61, 29, 36, 52, 34, 27, 36, 25, 45, 66,  7,\n",
       "       27, 88, 88, 88, 44, 88, 58, 88, 45, 23, 39, 14, 88, 27, 38, 36, 23,\n",
       "       88, 36, 24, 88, 42, 36, 88, 56, 22, 65, 18, 27, 31, 80, 41, 59, 25,\n",
       "       33, 36, 88,  8, 17, 45,  9, 67, 48, 88, 39, 64, 88, 38, 81, 88, 65,\n",
       "       88, 63, 45, 62, 63, 88, 51, 88, 72, 88,  2, 88, 51, 44, 29, 28, 88,\n",
       "       45, 38, 28,  6, 13, 88, 65, 79, 33, 88, 47, 74, 39, 13, 88, 27, 70,\n",
       "       85, 27, 88, 69, 88, 33, 31, 22, 27, 88, 50, 21, 23, 44, 88, 36, 34,\n",
       "       38, 88, 48, 69, 31, 62, 45, 88, 48, 42, 39, 28, 88, 58, 88, 54, 65,\n",
       "       88, 52, 29,  6, 88, 22, 88, 39, 11, 59, 39, 88, 28, 48, 13, 15, 42,\n",
       "       65, 80, 24, 88, 44, 12, 22, 35, 88, 28, 28, 78, 63, 88, 52, 48, 88,\n",
       "       53, 36, 88, 88, 31, 24, 38, 88, 42, 78, 68, 48, 88, 21, 24, 45, 52,\n",
       "       88, 42, 33, 52, 69, 48, 88, 23, 62, 76, 28, 88, 47, 67, 62, 88, 50,\n",
       "       48, 88, 64, 88, 64, 31, 88, 88, 58, 47, 48, 39, 35, 28, 53, 52, 88,\n",
       "       88, 88, 47, 31, 45, 34,  8, 34, 35, 56, 25, 27, 27, 77, 73, 27, 34,\n",
       "       88, 87, 66, 42, 88, 13, 36, 42, 41, 55, 88, 25, 31,  6, 88,  2, 63,\n",
       "       24, 72, 88, 29, 88, 23, 27, 88, 23, 31, 88, 42, 29, 74, 65, 53, 62,\n",
       "       48, 25, 42, 33, 88, 57, 88, 53, 41, 83, 41, 88, 23, 32, 23, 57, 48,\n",
       "       88, 35, 25, 18, 76, 33, 18, 24, 23, 20, 41,  8, 88, 33, 76, 67, 58,\n",
       "       88, 64, 56, 23, 47, 23, 33, 34, 52, 59, 56, 28, 88, 31, 88, 63, 38,\n",
       "       67, 24, 51, 35, 88, 44, 10, 22, 45, 65, 35, 25, 39, 88, 33, 33, 38,\n",
       "       15, 88, 29, 29, 37, 63, 47, 88, 88, 88, 48, 27, 31, 41, 83, 21, 39,\n",
       "       24, 41,  8, 10, 44, 29, 63,  1, 36, 23, 45, 44, 88, 55, 25, 48, 21,\n",
       "       66, 88, 40, 88, 42, 31, 63, 73, 88, 69, 23, 88,  9, 88, 57, 17, 22,\n",
       "       38, 88, 33, 33, 23, 12,  5, 61, 88, 21, 88, 88, 33, 52, 64, 41, 39,\n",
       "       39, 45, 41, 15,  0, 35, 41, 52, 23, 52, 44, 34, 52, 47, 10, 40, 88,\n",
       "       29, 41, 57, 14, 67, 35, 51, 35,  6, 88, 88,  5, 88, 78, 20,  3, 88,\n",
       "       29, 23, 52, 27, 88, 42, 88, 25, 21, 39, 46, 22, 56, 88, 47, 36, 88,\n",
       "        8, 86, 13, 21, 58, 23, 59, 66, 31, 88, 55, 27, 63, 88, 31, 56, 35,\n",
       "       41, 88,  8, 34, 62, 44, 62, 36, 20, 25, 24, 88, 72, 33, 44, 28, 36,\n",
       "       33, 52, 35, 24, 88, 34, 42], dtype=int64)"
      ]
     },
     "execution_count": 152,
     "metadata": {},
     "output_type": "execute_result"
    }
   ],
   "source": [
    "Titanic"
   ]
  },
  {
   "cell_type": "code",
   "execution_count": null,
   "id": "0d0a745b",
   "metadata": {},
   "outputs": [],
   "source": []
  },
  {
   "cell_type": "code",
   "execution_count": null,
   "id": "57a05fcb",
   "metadata": {},
   "outputs": [],
   "source": []
  }
 ],
 "metadata": {
  "kernelspec": {
   "display_name": "Python 3 (ipykernel)",
   "language": "python",
   "name": "python3"
  },
  "language_info": {
   "codemirror_mode": {
    "name": "ipython",
    "version": 3
   },
   "file_extension": ".py",
   "mimetype": "text/x-python",
   "name": "python",
   "nbconvert_exporter": "python",
   "pygments_lexer": "ipython3",
   "version": "3.10.0"
  },
  "toc": {
   "base_numbering": 1,
   "nav_menu": {},
   "number_sections": true,
   "sideBar": true,
   "skip_h1_title": false,
   "title_cell": "Table of Contents",
   "title_sidebar": "Contents",
   "toc_cell": false,
   "toc_position": {},
   "toc_section_display": true,
   "toc_window_display": false
  }
 },
 "nbformat": 4,
 "nbformat_minor": 5
}
