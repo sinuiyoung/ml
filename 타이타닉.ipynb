{
 "cells": [
  {
   "cell_type": "markdown",
   "id": "c07d1ca3",
   "metadata": {},
   "source": [
    "### 타이타닉 생존자 ML 예측 구현\n",
    "* #suvived lable\n"
   ]
  },
  {
   "cell_type": "code",
   "execution_count": 497,
   "id": "a2d1178e",
   "metadata": {
    "ExecuteTime": {
     "end_time": "2022-07-03T08:14:43.068914Z",
     "start_time": "2022-07-03T08:14:43.063927Z"
    }
   },
   "outputs": [],
   "source": [
    "import pandas as pd\n",
    "import numpy as np\n",
    "\n"
   ]
  },
  {
   "cell_type": "code",
   "execution_count": 498,
   "id": "e6651096",
   "metadata": {
    "ExecuteTime": {
     "end_time": "2022-07-03T08:14:43.316284Z",
     "start_time": "2022-07-03T08:14:43.305315Z"
    }
   },
   "outputs": [],
   "source": [
    "Titanic = pd.read_csv(\"./train.csv\")"
   ]
  },
  {
   "cell_type": "code",
   "execution_count": 499,
   "id": "bd115e58",
   "metadata": {
    "ExecuteTime": {
     "end_time": "2022-07-03T08:14:43.505745Z",
     "start_time": "2022-07-03T08:14:43.478851Z"
    }
   },
   "outputs": [
    {
     "data": {
      "text/html": [
       "<div>\n",
       "<style scoped>\n",
       "    .dataframe tbody tr th:only-of-type {\n",
       "        vertical-align: middle;\n",
       "    }\n",
       "\n",
       "    .dataframe tbody tr th {\n",
       "        vertical-align: top;\n",
       "    }\n",
       "\n",
       "    .dataframe thead th {\n",
       "        text-align: right;\n",
       "    }\n",
       "</style>\n",
       "<table border=\"1\" class=\"dataframe\">\n",
       "  <thead>\n",
       "    <tr style=\"text-align: right;\">\n",
       "      <th></th>\n",
       "      <th>PassengerId</th>\n",
       "      <th>Survived</th>\n",
       "      <th>Pclass</th>\n",
       "      <th>Name</th>\n",
       "      <th>Sex</th>\n",
       "      <th>Age</th>\n",
       "      <th>SibSp</th>\n",
       "      <th>Parch</th>\n",
       "      <th>Ticket</th>\n",
       "      <th>Fare</th>\n",
       "      <th>Cabin</th>\n",
       "      <th>Embarked</th>\n",
       "    </tr>\n",
       "  </thead>\n",
       "  <tbody>\n",
       "    <tr>\n",
       "      <th>0</th>\n",
       "      <td>1</td>\n",
       "      <td>0</td>\n",
       "      <td>3</td>\n",
       "      <td>Braund, Mr. Owen Harris</td>\n",
       "      <td>male</td>\n",
       "      <td>22.0</td>\n",
       "      <td>1</td>\n",
       "      <td>0</td>\n",
       "      <td>A/5 21171</td>\n",
       "      <td>7.2500</td>\n",
       "      <td>NaN</td>\n",
       "      <td>S</td>\n",
       "    </tr>\n",
       "    <tr>\n",
       "      <th>1</th>\n",
       "      <td>2</td>\n",
       "      <td>1</td>\n",
       "      <td>1</td>\n",
       "      <td>Cumings, Mrs. John Bradley (Florence Briggs Th...</td>\n",
       "      <td>female</td>\n",
       "      <td>38.0</td>\n",
       "      <td>1</td>\n",
       "      <td>0</td>\n",
       "      <td>PC 17599</td>\n",
       "      <td>71.2833</td>\n",
       "      <td>C85</td>\n",
       "      <td>C</td>\n",
       "    </tr>\n",
       "    <tr>\n",
       "      <th>2</th>\n",
       "      <td>3</td>\n",
       "      <td>1</td>\n",
       "      <td>3</td>\n",
       "      <td>Heikkinen, Miss. Laina</td>\n",
       "      <td>female</td>\n",
       "      <td>26.0</td>\n",
       "      <td>0</td>\n",
       "      <td>0</td>\n",
       "      <td>STON/O2. 3101282</td>\n",
       "      <td>7.9250</td>\n",
       "      <td>NaN</td>\n",
       "      <td>S</td>\n",
       "    </tr>\n",
       "    <tr>\n",
       "      <th>3</th>\n",
       "      <td>4</td>\n",
       "      <td>1</td>\n",
       "      <td>1</td>\n",
       "      <td>Futrelle, Mrs. Jacques Heath (Lily May Peel)</td>\n",
       "      <td>female</td>\n",
       "      <td>35.0</td>\n",
       "      <td>1</td>\n",
       "      <td>0</td>\n",
       "      <td>113803</td>\n",
       "      <td>53.1000</td>\n",
       "      <td>C123</td>\n",
       "      <td>S</td>\n",
       "    </tr>\n",
       "    <tr>\n",
       "      <th>4</th>\n",
       "      <td>5</td>\n",
       "      <td>0</td>\n",
       "      <td>3</td>\n",
       "      <td>Allen, Mr. William Henry</td>\n",
       "      <td>male</td>\n",
       "      <td>35.0</td>\n",
       "      <td>0</td>\n",
       "      <td>0</td>\n",
       "      <td>373450</td>\n",
       "      <td>8.0500</td>\n",
       "      <td>NaN</td>\n",
       "      <td>S</td>\n",
       "    </tr>\n",
       "    <tr>\n",
       "      <th>...</th>\n",
       "      <td>...</td>\n",
       "      <td>...</td>\n",
       "      <td>...</td>\n",
       "      <td>...</td>\n",
       "      <td>...</td>\n",
       "      <td>...</td>\n",
       "      <td>...</td>\n",
       "      <td>...</td>\n",
       "      <td>...</td>\n",
       "      <td>...</td>\n",
       "      <td>...</td>\n",
       "      <td>...</td>\n",
       "    </tr>\n",
       "    <tr>\n",
       "      <th>886</th>\n",
       "      <td>887</td>\n",
       "      <td>0</td>\n",
       "      <td>2</td>\n",
       "      <td>Montvila, Rev. Juozas</td>\n",
       "      <td>male</td>\n",
       "      <td>27.0</td>\n",
       "      <td>0</td>\n",
       "      <td>0</td>\n",
       "      <td>211536</td>\n",
       "      <td>13.0000</td>\n",
       "      <td>NaN</td>\n",
       "      <td>S</td>\n",
       "    </tr>\n",
       "    <tr>\n",
       "      <th>887</th>\n",
       "      <td>888</td>\n",
       "      <td>1</td>\n",
       "      <td>1</td>\n",
       "      <td>Graham, Miss. Margaret Edith</td>\n",
       "      <td>female</td>\n",
       "      <td>19.0</td>\n",
       "      <td>0</td>\n",
       "      <td>0</td>\n",
       "      <td>112053</td>\n",
       "      <td>30.0000</td>\n",
       "      <td>B42</td>\n",
       "      <td>S</td>\n",
       "    </tr>\n",
       "    <tr>\n",
       "      <th>888</th>\n",
       "      <td>889</td>\n",
       "      <td>0</td>\n",
       "      <td>3</td>\n",
       "      <td>Johnston, Miss. Catherine Helen \"Carrie\"</td>\n",
       "      <td>female</td>\n",
       "      <td>NaN</td>\n",
       "      <td>1</td>\n",
       "      <td>2</td>\n",
       "      <td>W./C. 6607</td>\n",
       "      <td>23.4500</td>\n",
       "      <td>NaN</td>\n",
       "      <td>S</td>\n",
       "    </tr>\n",
       "    <tr>\n",
       "      <th>889</th>\n",
       "      <td>890</td>\n",
       "      <td>1</td>\n",
       "      <td>1</td>\n",
       "      <td>Behr, Mr. Karl Howell</td>\n",
       "      <td>male</td>\n",
       "      <td>26.0</td>\n",
       "      <td>0</td>\n",
       "      <td>0</td>\n",
       "      <td>111369</td>\n",
       "      <td>30.0000</td>\n",
       "      <td>C148</td>\n",
       "      <td>C</td>\n",
       "    </tr>\n",
       "    <tr>\n",
       "      <th>890</th>\n",
       "      <td>891</td>\n",
       "      <td>0</td>\n",
       "      <td>3</td>\n",
       "      <td>Dooley, Mr. Patrick</td>\n",
       "      <td>male</td>\n",
       "      <td>32.0</td>\n",
       "      <td>0</td>\n",
       "      <td>0</td>\n",
       "      <td>370376</td>\n",
       "      <td>7.7500</td>\n",
       "      <td>NaN</td>\n",
       "      <td>Q</td>\n",
       "    </tr>\n",
       "  </tbody>\n",
       "</table>\n",
       "<p>891 rows × 12 columns</p>\n",
       "</div>"
      ],
      "text/plain": [
       "     PassengerId  Survived  Pclass  \\\n",
       "0              1         0       3   \n",
       "1              2         1       1   \n",
       "2              3         1       3   \n",
       "3              4         1       1   \n",
       "4              5         0       3   \n",
       "..           ...       ...     ...   \n",
       "886          887         0       2   \n",
       "887          888         1       1   \n",
       "888          889         0       3   \n",
       "889          890         1       1   \n",
       "890          891         0       3   \n",
       "\n",
       "                                                  Name     Sex   Age  SibSp  \\\n",
       "0                              Braund, Mr. Owen Harris    male  22.0      1   \n",
       "1    Cumings, Mrs. John Bradley (Florence Briggs Th...  female  38.0      1   \n",
       "2                               Heikkinen, Miss. Laina  female  26.0      0   \n",
       "3         Futrelle, Mrs. Jacques Heath (Lily May Peel)  female  35.0      1   \n",
       "4                             Allen, Mr. William Henry    male  35.0      0   \n",
       "..                                                 ...     ...   ...    ...   \n",
       "886                              Montvila, Rev. Juozas    male  27.0      0   \n",
       "887                       Graham, Miss. Margaret Edith  female  19.0      0   \n",
       "888           Johnston, Miss. Catherine Helen \"Carrie\"  female   NaN      1   \n",
       "889                              Behr, Mr. Karl Howell    male  26.0      0   \n",
       "890                                Dooley, Mr. Patrick    male  32.0      0   \n",
       "\n",
       "     Parch            Ticket     Fare Cabin Embarked  \n",
       "0        0         A/5 21171   7.2500   NaN        S  \n",
       "1        0          PC 17599  71.2833   C85        C  \n",
       "2        0  STON/O2. 3101282   7.9250   NaN        S  \n",
       "3        0            113803  53.1000  C123        S  \n",
       "4        0            373450   8.0500   NaN        S  \n",
       "..     ...               ...      ...   ...      ...  \n",
       "886      0            211536  13.0000   NaN        S  \n",
       "887      0            112053  30.0000   B42        S  \n",
       "888      2        W./C. 6607  23.4500   NaN        S  \n",
       "889      0            111369  30.0000  C148        C  \n",
       "890      0            370376   7.7500   NaN        Q  \n",
       "\n",
       "[891 rows x 12 columns]"
      ]
     },
     "execution_count": 499,
     "metadata": {},
     "output_type": "execute_result"
    }
   ],
   "source": [
    "Titanic\n"
   ]
  },
  {
   "cell_type": "code",
   "execution_count": 500,
   "id": "8673746f",
   "metadata": {
    "ExecuteTime": {
     "end_time": "2022-07-03T08:14:43.673346Z",
     "start_time": "2022-07-03T08:14:43.664371Z"
    }
   },
   "outputs": [],
   "source": [
    "Titanic.drop([\"Name\", \"SibSp\", \"Parch\",\"Ticket\",\"Fare\"], axis = 1, inplace= True)\n",
    "Titanic.drop(\"PassengerId\", axis = 1, inplace= True)\n",
    "Titanic.drop(\"Cabin\", axis = 1, inplace= True)"
   ]
  },
  {
   "cell_type": "code",
   "execution_count": 501,
   "id": "ebb87650",
   "metadata": {
    "ExecuteTime": {
     "end_time": "2022-07-03T08:14:43.882458Z",
     "start_time": "2022-07-03T08:14:43.877470Z"
    }
   },
   "outputs": [],
   "source": [
    "Titanic_df = Titanic"
   ]
  },
  {
   "cell_type": "code",
   "execution_count": 502,
   "id": "3e1d69c4",
   "metadata": {
    "ExecuteTime": {
     "end_time": "2022-07-03T08:14:44.370434Z",
     "start_time": "2022-07-03T08:14:44.358464Z"
    }
   },
   "outputs": [
    {
     "data": {
      "text/plain": [
       "Survived      0\n",
       "Pclass        0\n",
       "Sex           0\n",
       "Age         177\n",
       "Embarked      2\n",
       "dtype: int64"
      ]
     },
     "execution_count": 502,
     "metadata": {},
     "output_type": "execute_result"
    }
   ],
   "source": [
    "Titanic_df.isna().sum()"
   ]
  },
  {
   "cell_type": "code",
   "execution_count": 503,
   "id": "f40dd76a",
   "metadata": {
    "ExecuteTime": {
     "end_time": "2022-07-03T08:14:44.858127Z",
     "start_time": "2022-07-03T08:14:44.852144Z"
    }
   },
   "outputs": [],
   "source": [
    "Titanic_df[\"Age\"]= Titanic_df[\"Age\"].fillna(Titanic_df[\"Age\"].mean())"
   ]
  },
  {
   "cell_type": "code",
   "execution_count": 504,
   "id": "56a451e0",
   "metadata": {
    "ExecuteTime": {
     "end_time": "2022-07-03T08:14:45.160565Z",
     "start_time": "2022-07-03T08:14:45.153577Z"
    }
   },
   "outputs": [],
   "source": [
    "Titanic_df[\"Embarked\"]=Titanic_df[\"Embarked\"].fillna('S')"
   ]
  },
  {
   "cell_type": "code",
   "execution_count": 505,
   "id": "1959e9f8",
   "metadata": {
    "ExecuteTime": {
     "end_time": "2022-07-03T08:14:45.375845Z",
     "start_time": "2022-07-03T08:14:45.366007Z"
    }
   },
   "outputs": [
    {
     "data": {
      "text/plain": [
       "Survived    0\n",
       "Pclass      0\n",
       "Sex         0\n",
       "Age         0\n",
       "Embarked    0\n",
       "dtype: int64"
      ]
     },
     "execution_count": 505,
     "metadata": {},
     "output_type": "execute_result"
    }
   ],
   "source": [
    "Titanic_df.isna().sum()"
   ]
  },
  {
   "cell_type": "code",
   "execution_count": 506,
   "id": "ec24b17e",
   "metadata": {
    "ExecuteTime": {
     "end_time": "2022-07-03T08:14:45.591403Z",
     "start_time": "2022-07-03T08:14:45.577438Z"
    }
   },
   "outputs": [
    {
     "name": "stdout",
     "output_type": "stream",
     "text": [
      "<class 'pandas.core.frame.DataFrame'>\n",
      "RangeIndex: 891 entries, 0 to 890\n",
      "Data columns (total 5 columns):\n",
      " #   Column    Non-Null Count  Dtype  \n",
      "---  ------    --------------  -----  \n",
      " 0   Survived  891 non-null    int64  \n",
      " 1   Pclass    891 non-null    int64  \n",
      " 2   Sex       891 non-null    object \n",
      " 3   Age       891 non-null    float64\n",
      " 4   Embarked  891 non-null    object \n",
      "dtypes: float64(1), int64(2), object(2)\n",
      "memory usage: 34.9+ KB\n"
     ]
    }
   ],
   "source": [
    "Titanic_df.info()"
   ]
  },
  {
   "cell_type": "code",
   "execution_count": 507,
   "id": "260077ba",
   "metadata": {
    "ExecuteTime": {
     "end_time": "2022-07-03T08:14:45.803626Z",
     "start_time": "2022-07-03T08:14:45.797642Z"
    }
   },
   "outputs": [],
   "source": [
    "# Sex. Eebarked Encoding\n",
    "from sklearn.preprocessing import LabelEncoder\n",
    "\n",
    "encoder = LabelEncoder()\n"
   ]
  },
  {
   "cell_type": "code",
   "execution_count": 508,
   "id": "a262c2d9",
   "metadata": {
    "ExecuteTime": {
     "end_time": "2022-07-03T08:14:46.029022Z",
     "start_time": "2022-07-03T08:14:46.022042Z"
    }
   },
   "outputs": [],
   "source": [
    "Titanic_df[\"Embarked\"]=encoder.fit_transform(Titanic[\"Embarked\"])\n",
    "Titanic_df[\"Sex\"]=encoder.fit_transform(Titanic[\"Sex\"])\n"
   ]
  },
  {
   "cell_type": "code",
   "execution_count": 509,
   "id": "10ded022",
   "metadata": {
    "ExecuteTime": {
     "end_time": "2022-07-03T08:14:46.269381Z",
     "start_time": "2022-07-03T08:14:46.253425Z"
    }
   },
   "outputs": [
    {
     "data": {
      "text/html": [
       "<div>\n",
       "<style scoped>\n",
       "    .dataframe tbody tr th:only-of-type {\n",
       "        vertical-align: middle;\n",
       "    }\n",
       "\n",
       "    .dataframe tbody tr th {\n",
       "        vertical-align: top;\n",
       "    }\n",
       "\n",
       "    .dataframe thead th {\n",
       "        text-align: right;\n",
       "    }\n",
       "</style>\n",
       "<table border=\"1\" class=\"dataframe\">\n",
       "  <thead>\n",
       "    <tr style=\"text-align: right;\">\n",
       "      <th></th>\n",
       "      <th>Survived</th>\n",
       "      <th>Pclass</th>\n",
       "      <th>Sex</th>\n",
       "      <th>Age</th>\n",
       "      <th>Embarked</th>\n",
       "    </tr>\n",
       "  </thead>\n",
       "  <tbody>\n",
       "    <tr>\n",
       "      <th>0</th>\n",
       "      <td>0</td>\n",
       "      <td>3</td>\n",
       "      <td>1</td>\n",
       "      <td>22.000000</td>\n",
       "      <td>2</td>\n",
       "    </tr>\n",
       "    <tr>\n",
       "      <th>1</th>\n",
       "      <td>1</td>\n",
       "      <td>1</td>\n",
       "      <td>0</td>\n",
       "      <td>38.000000</td>\n",
       "      <td>0</td>\n",
       "    </tr>\n",
       "    <tr>\n",
       "      <th>2</th>\n",
       "      <td>1</td>\n",
       "      <td>3</td>\n",
       "      <td>0</td>\n",
       "      <td>26.000000</td>\n",
       "      <td>2</td>\n",
       "    </tr>\n",
       "    <tr>\n",
       "      <th>3</th>\n",
       "      <td>1</td>\n",
       "      <td>1</td>\n",
       "      <td>0</td>\n",
       "      <td>35.000000</td>\n",
       "      <td>2</td>\n",
       "    </tr>\n",
       "    <tr>\n",
       "      <th>4</th>\n",
       "      <td>0</td>\n",
       "      <td>3</td>\n",
       "      <td>1</td>\n",
       "      <td>35.000000</td>\n",
       "      <td>2</td>\n",
       "    </tr>\n",
       "    <tr>\n",
       "      <th>...</th>\n",
       "      <td>...</td>\n",
       "      <td>...</td>\n",
       "      <td>...</td>\n",
       "      <td>...</td>\n",
       "      <td>...</td>\n",
       "    </tr>\n",
       "    <tr>\n",
       "      <th>886</th>\n",
       "      <td>0</td>\n",
       "      <td>2</td>\n",
       "      <td>1</td>\n",
       "      <td>27.000000</td>\n",
       "      <td>2</td>\n",
       "    </tr>\n",
       "    <tr>\n",
       "      <th>887</th>\n",
       "      <td>1</td>\n",
       "      <td>1</td>\n",
       "      <td>0</td>\n",
       "      <td>19.000000</td>\n",
       "      <td>2</td>\n",
       "    </tr>\n",
       "    <tr>\n",
       "      <th>888</th>\n",
       "      <td>0</td>\n",
       "      <td>3</td>\n",
       "      <td>0</td>\n",
       "      <td>29.699118</td>\n",
       "      <td>2</td>\n",
       "    </tr>\n",
       "    <tr>\n",
       "      <th>889</th>\n",
       "      <td>1</td>\n",
       "      <td>1</td>\n",
       "      <td>1</td>\n",
       "      <td>26.000000</td>\n",
       "      <td>0</td>\n",
       "    </tr>\n",
       "    <tr>\n",
       "      <th>890</th>\n",
       "      <td>0</td>\n",
       "      <td>3</td>\n",
       "      <td>1</td>\n",
       "      <td>32.000000</td>\n",
       "      <td>1</td>\n",
       "    </tr>\n",
       "  </tbody>\n",
       "</table>\n",
       "<p>891 rows × 5 columns</p>\n",
       "</div>"
      ],
      "text/plain": [
       "     Survived  Pclass  Sex        Age  Embarked\n",
       "0           0       3    1  22.000000         2\n",
       "1           1       1    0  38.000000         0\n",
       "2           1       3    0  26.000000         2\n",
       "3           1       1    0  35.000000         2\n",
       "4           0       3    1  35.000000         2\n",
       "..        ...     ...  ...        ...       ...\n",
       "886         0       2    1  27.000000         2\n",
       "887         1       1    0  19.000000         2\n",
       "888         0       3    0  29.699118         2\n",
       "889         1       1    1  26.000000         0\n",
       "890         0       3    1  32.000000         1\n",
       "\n",
       "[891 rows x 5 columns]"
      ]
     },
     "execution_count": 509,
     "metadata": {},
     "output_type": "execute_result"
    }
   ],
   "source": [
    "Titanic_df"
   ]
  },
  {
   "cell_type": "code",
   "execution_count": 510,
   "id": "111ede41",
   "metadata": {
    "ExecuteTime": {
     "end_time": "2022-07-03T08:14:46.493818Z",
     "start_time": "2022-07-03T08:14:46.487833Z"
    }
   },
   "outputs": [],
   "source": [
    "Titanic_df[\"lable\"] = Titanic_df[\"Survived\"]"
   ]
  },
  {
   "cell_type": "code",
   "execution_count": 511,
   "id": "a2bf666e",
   "metadata": {
    "ExecuteTime": {
     "end_time": "2022-07-03T08:14:46.753158Z",
     "start_time": "2022-07-03T08:14:46.748173Z"
    },
    "scrolled": true
   },
   "outputs": [],
   "source": [
    "Titanic_df.drop(\"Survived\", axis = 1, inplace= True)"
   ]
  },
  {
   "cell_type": "code",
   "execution_count": 512,
   "id": "1249eafc",
   "metadata": {
    "ExecuteTime": {
     "end_time": "2022-07-03T08:14:47.017425Z",
     "start_time": "2022-07-03T08:14:47.008450Z"
    },
    "scrolled": true
   },
   "outputs": [
    {
     "data": {
      "text/plain": [
       "0      22.000000\n",
       "1      38.000000\n",
       "2      26.000000\n",
       "3      35.000000\n",
       "4      35.000000\n",
       "         ...    \n",
       "886    27.000000\n",
       "887    19.000000\n",
       "888    29.699118\n",
       "889    26.000000\n",
       "890    32.000000\n",
       "Name: Age, Length: 891, dtype: float64"
      ]
     },
     "execution_count": 512,
     "metadata": {},
     "output_type": "execute_result"
    }
   ],
   "source": [
    "Titanic_df[\"Age\"]"
   ]
  },
  {
   "cell_type": "code",
   "execution_count": 513,
   "id": "f0625f04",
   "metadata": {
    "ExecuteTime": {
     "end_time": "2022-07-03T08:14:47.342362Z",
     "start_time": "2022-07-03T08:14:47.337374Z"
    }
   },
   "outputs": [],
   "source": [
    "# from sklearn.model_selection import train_test_split\n",
    "# X_train, X_test, y_train, y_test = train_test_split(Titanic_df, Titanic_df[\"label\"], test_size=0.2, random_state=1)"
   ]
  },
  {
   "cell_type": "code",
   "execution_count": null,
   "id": "8b52f699",
   "metadata": {
    "ExecuteTime": {
     "end_time": "2022-07-01T08:19:02.814548Z",
     "start_time": "2022-07-01T08:19:02.805536Z"
    }
   },
   "outputs": [],
   "source": []
  },
  {
   "cell_type": "code",
   "execution_count": 522,
   "id": "484fb797",
   "metadata": {
    "ExecuteTime": {
     "end_time": "2022-07-03T09:03:40.109409Z",
     "start_time": "2022-07-03T09:03:40.085472Z"
    }
   },
   "outputs": [
    {
     "data": {
      "text/html": [
       "<div>\n",
       "<style scoped>\n",
       "    .dataframe tbody tr th:only-of-type {\n",
       "        vertical-align: middle;\n",
       "    }\n",
       "\n",
       "    .dataframe tbody tr th {\n",
       "        vertical-align: top;\n",
       "    }\n",
       "\n",
       "    .dataframe thead th {\n",
       "        text-align: right;\n",
       "    }\n",
       "</style>\n",
       "<table border=\"1\" class=\"dataframe\">\n",
       "  <thead>\n",
       "    <tr style=\"text-align: right;\">\n",
       "      <th></th>\n",
       "      <th>Pclass</th>\n",
       "      <th>Sex</th>\n",
       "      <th>Age</th>\n",
       "      <th>Embarked</th>\n",
       "      <th>lable</th>\n",
       "    </tr>\n",
       "  </thead>\n",
       "  <tbody>\n",
       "    <tr>\n",
       "      <th>0</th>\n",
       "      <td>3</td>\n",
       "      <td>1</td>\n",
       "      <td>22.000000</td>\n",
       "      <td>2</td>\n",
       "      <td>0</td>\n",
       "    </tr>\n",
       "    <tr>\n",
       "      <th>1</th>\n",
       "      <td>1</td>\n",
       "      <td>0</td>\n",
       "      <td>38.000000</td>\n",
       "      <td>0</td>\n",
       "      <td>1</td>\n",
       "    </tr>\n",
       "    <tr>\n",
       "      <th>2</th>\n",
       "      <td>3</td>\n",
       "      <td>0</td>\n",
       "      <td>26.000000</td>\n",
       "      <td>2</td>\n",
       "      <td>1</td>\n",
       "    </tr>\n",
       "    <tr>\n",
       "      <th>3</th>\n",
       "      <td>1</td>\n",
       "      <td>0</td>\n",
       "      <td>35.000000</td>\n",
       "      <td>2</td>\n",
       "      <td>1</td>\n",
       "    </tr>\n",
       "    <tr>\n",
       "      <th>4</th>\n",
       "      <td>3</td>\n",
       "      <td>1</td>\n",
       "      <td>35.000000</td>\n",
       "      <td>2</td>\n",
       "      <td>0</td>\n",
       "    </tr>\n",
       "    <tr>\n",
       "      <th>5</th>\n",
       "      <td>3</td>\n",
       "      <td>1</td>\n",
       "      <td>29.699118</td>\n",
       "      <td>1</td>\n",
       "      <td>0</td>\n",
       "    </tr>\n",
       "    <tr>\n",
       "      <th>6</th>\n",
       "      <td>1</td>\n",
       "      <td>1</td>\n",
       "      <td>54.000000</td>\n",
       "      <td>2</td>\n",
       "      <td>0</td>\n",
       "    </tr>\n",
       "    <tr>\n",
       "      <th>7</th>\n",
       "      <td>3</td>\n",
       "      <td>1</td>\n",
       "      <td>2.000000</td>\n",
       "      <td>2</td>\n",
       "      <td>0</td>\n",
       "    </tr>\n",
       "    <tr>\n",
       "      <th>8</th>\n",
       "      <td>3</td>\n",
       "      <td>0</td>\n",
       "      <td>27.000000</td>\n",
       "      <td>2</td>\n",
       "      <td>1</td>\n",
       "    </tr>\n",
       "    <tr>\n",
       "      <th>9</th>\n",
       "      <td>2</td>\n",
       "      <td>0</td>\n",
       "      <td>14.000000</td>\n",
       "      <td>0</td>\n",
       "      <td>1</td>\n",
       "    </tr>\n",
       "    <tr>\n",
       "      <th>10</th>\n",
       "      <td>3</td>\n",
       "      <td>0</td>\n",
       "      <td>4.000000</td>\n",
       "      <td>2</td>\n",
       "      <td>1</td>\n",
       "    </tr>\n",
       "    <tr>\n",
       "      <th>11</th>\n",
       "      <td>1</td>\n",
       "      <td>0</td>\n",
       "      <td>58.000000</td>\n",
       "      <td>2</td>\n",
       "      <td>1</td>\n",
       "    </tr>\n",
       "    <tr>\n",
       "      <th>12</th>\n",
       "      <td>3</td>\n",
       "      <td>1</td>\n",
       "      <td>20.000000</td>\n",
       "      <td>2</td>\n",
       "      <td>0</td>\n",
       "    </tr>\n",
       "    <tr>\n",
       "      <th>13</th>\n",
       "      <td>3</td>\n",
       "      <td>1</td>\n",
       "      <td>39.000000</td>\n",
       "      <td>2</td>\n",
       "      <td>0</td>\n",
       "    </tr>\n",
       "    <tr>\n",
       "      <th>14</th>\n",
       "      <td>3</td>\n",
       "      <td>0</td>\n",
       "      <td>14.000000</td>\n",
       "      <td>2</td>\n",
       "      <td>0</td>\n",
       "    </tr>\n",
       "    <tr>\n",
       "      <th>15</th>\n",
       "      <td>2</td>\n",
       "      <td>0</td>\n",
       "      <td>55.000000</td>\n",
       "      <td>2</td>\n",
       "      <td>1</td>\n",
       "    </tr>\n",
       "    <tr>\n",
       "      <th>16</th>\n",
       "      <td>3</td>\n",
       "      <td>1</td>\n",
       "      <td>2.000000</td>\n",
       "      <td>1</td>\n",
       "      <td>0</td>\n",
       "    </tr>\n",
       "    <tr>\n",
       "      <th>17</th>\n",
       "      <td>2</td>\n",
       "      <td>1</td>\n",
       "      <td>29.699118</td>\n",
       "      <td>2</td>\n",
       "      <td>1</td>\n",
       "    </tr>\n",
       "    <tr>\n",
       "      <th>18</th>\n",
       "      <td>3</td>\n",
       "      <td>0</td>\n",
       "      <td>31.000000</td>\n",
       "      <td>2</td>\n",
       "      <td>0</td>\n",
       "    </tr>\n",
       "    <tr>\n",
       "      <th>19</th>\n",
       "      <td>3</td>\n",
       "      <td>0</td>\n",
       "      <td>29.699118</td>\n",
       "      <td>0</td>\n",
       "      <td>1</td>\n",
       "    </tr>\n",
       "  </tbody>\n",
       "</table>\n",
       "</div>"
      ],
      "text/plain": [
       "    Pclass  Sex        Age  Embarked  lable\n",
       "0        3    1  22.000000         2      0\n",
       "1        1    0  38.000000         0      1\n",
       "2        3    0  26.000000         2      1\n",
       "3        1    0  35.000000         2      1\n",
       "4        3    1  35.000000         2      0\n",
       "5        3    1  29.699118         1      0\n",
       "6        1    1  54.000000         2      0\n",
       "7        3    1   2.000000         2      0\n",
       "8        3    0  27.000000         2      1\n",
       "9        2    0  14.000000         0      1\n",
       "10       3    0   4.000000         2      1\n",
       "11       1    0  58.000000         2      1\n",
       "12       3    1  20.000000         2      0\n",
       "13       3    1  39.000000         2      0\n",
       "14       3    0  14.000000         2      0\n",
       "15       2    0  55.000000         2      1\n",
       "16       3    1   2.000000         1      0\n",
       "17       2    1  29.699118         2      1\n",
       "18       3    0  31.000000         2      0\n",
       "19       3    0  29.699118         0      1"
      ]
     },
     "execution_count": 522,
     "metadata": {},
     "output_type": "execute_result"
    }
   ],
   "source": [
    "Titanic_df.head(20)"
   ]
  },
  {
   "cell_type": "code",
   "execution_count": 515,
   "id": "4132e1e5",
   "metadata": {
    "ExecuteTime": {
     "end_time": "2022-07-03T08:14:48.440654Z",
     "start_time": "2022-07-03T08:14:48.424696Z"
    }
   },
   "outputs": [
    {
     "name": "stdout",
     "output_type": "stream",
     "text": [
      "feature 들의 평균 값\n",
      "Pclass     -8.772133e-17\n",
      "Sex        -1.156327e-16\n",
      "Age         2.232906e-16\n",
      "Embarked   -4.984166e-17\n",
      "lable       3.987333e-17\n",
      "dtype: float64\n",
      "\n",
      "feature 들의 분산 값\n",
      "Pclass      1.001124\n",
      "Sex         1.001124\n",
      "Age         1.001124\n",
      "Embarked    1.001124\n",
      "lable       1.001124\n",
      "dtype: float64\n"
     ]
    }
   ],
   "source": [
    "from sklearn.preprocessing import StandardScaler\n",
    "\n",
    "#StandarScaler 객체 생성\n",
    "scaler = StandardScaler()\n",
    "scaler.fit(Titanic_df)\n",
    "Titanic_scaled = scaler.transform(Titanic_df)\n",
    "Titanic_df_scaled = pd.DataFrame(data=Titanic_scaled, columns = Titanic_df.columns)\n",
    "\n",
    "print('feature 들의 평균 값')\n",
    "print(Titanic_df_scaled.mean())\n",
    "print('\\nfeature 들의 분산 값')\n",
    "print(Titanic_df_scaled.var())\n",
    "\n"
   ]
  },
  {
   "cell_type": "code",
   "execution_count": 516,
   "id": "cfb85720",
   "metadata": {
    "ExecuteTime": {
     "end_time": "2022-07-03T08:14:49.223387Z",
     "start_time": "2022-07-03T08:14:48.987701Z"
    },
    "scrolled": false
   },
   "outputs": [
    {
     "data": {
      "image/png": "[encoded data removed]",
      "text/plain": [
       "<Figure size 432x288 with 1 Axes>"
      ]
     },
     "metadata": {
      "needs_background": "light"
     },
     "output_type": "display_data"
    }
   ],
   "source": [
    "import matplotlib.pyplot as plt\n",
    "import seaborn as sns\n",
    "sns.kdeplot(Titanic_df_scaled ['Pclass'])\n",
    "sns.kdeplot(Titanic_df_scaled ['Sex'])\n",
    "sns.kdeplot(Titanic_df_scaled ['Age'])\n",
    "sns.kdeplot(Titanic_df_scaled ['Embarked'])\n",
    "plt.title('StandardScaler')\n",
    "plt.xlabel('Features')\n",
    "plt.legend(['Pclsss', 'Sex', 'Age', 'Embarked'])\n",
    "plt.show()\n",
    "plt.show()\n"
   ]
  },
  {
   "cell_type": "code",
   "execution_count": 517,
   "id": "7ee0742d",
   "metadata": {
    "ExecuteTime": {
     "end_time": "2022-07-03T08:14:49.425847Z",
     "start_time": "2022-07-03T08:14:49.407892Z"
    }
   },
   "outputs": [
    {
     "name": "stdout",
     "output_type": "stream",
     "text": [
      "feature 들의 최대 값\n",
      "Pclass      1.0\n",
      "Sex         1.0\n",
      "Age         1.0\n",
      "Embarked    1.0\n",
      "lable       1.0\n",
      "dtype: float64\n",
      "\n",
      "feature 들의 최소 값\n",
      "Pclass      0.0\n",
      "Sex         0.0\n",
      "Age         0.0\n",
      "Embarked    0.0\n",
      "lable       0.0\n",
      "dtype: float64\n"
     ]
    }
   ],
   "source": [
    "from sklearn.preprocessing import MinMaxScaler\n",
    "\n",
    "#StandarScaler 객체 생성\n",
    "scaler = MinMaxScaler()\n",
    "scaler.fit(Titanic_df)\n",
    "Titanic_scaled = scaler.transform(Titanic_df)\n",
    "Titanic_df_scaled = pd.DataFrame(data=Titanic_scaled, columns = Titanic_df.columns)\n",
    "\n",
    "print('feature 들의 최대 값')\n",
    "print(Titanic_df_scaled.max())\n",
    "print('\\nfeature 들의 최소 값')\n",
    "print(Titanic_df_scaled.min())"
   ]
  },
  {
   "cell_type": "code",
   "execution_count": 444,
   "id": "3d4fb656",
   "metadata": {
    "ExecuteTime": {
     "end_time": "2022-07-03T07:50:16.955338Z",
     "start_time": "2022-07-03T07:50:16.693990Z"
    },
    "scrolled": true
   },
   "outputs": [
    {
     "data": {
      "image/png": "[encoded data removed]",
      "text/plain": [
       "<Figure size 432x288 with 1 Axes>"
      ]
     },
     "metadata": {
      "needs_background": "light"
     },
     "output_type": "display_data"
    }
   ],
   "source": [
    "import matplotlib.pyplot as plt\n",
    "import seaborn as sns\n",
    "sns.kdeplot(Titanic_df_scaled ['Pclass'])\n",
    "sns.kdeplot(Titanic_df_scaled ['Sex'])\n",
    "sns.kdeplot(Titanic_df_scaled ['Age'])\n",
    "sns.kdeplot(Titanic_df_scaled ['Embarked'])\n",
    "plt.title('MinMaxScaler')\n",
    "plt.xlabel('Features')\n",
    "plt.legend(['Pclass', 'Sex', 'Age', 'Embarked'])\n",
    "plt.show()\n",
    "plt.show()"
   ]
  },
  {
   "cell_type": "code",
   "execution_count": 521,
   "id": "33dabd2f",
   "metadata": {
    "ExecuteTime": {
     "end_time": "2022-07-03T08:51:49.581075Z",
     "start_time": "2022-07-03T08:51:49.566116Z"
    }
   },
   "outputs": [
    {
     "data": {
      "text/plain": [
       "Pclass        0.699015\n",
       "Sex           0.228475\n",
       "Age         169.052400\n",
       "Embarked      0.626477\n",
       "lable         0.236772\n",
       "dtype: float64"
      ]
     },
     "execution_count": 521,
     "metadata": {},
     "output_type": "execute_result"
    }
   ],
   "source": [
    "Titanic_df.var()"
   ]
  },
  {
   "cell_type": "code",
   "execution_count": 445,
   "id": "579b7beb",
   "metadata": {
    "ExecuteTime": {
     "end_time": "2022-07-03T07:50:20.066446Z",
     "start_time": "2022-07-03T07:50:20.045500Z"
    }
   },
   "outputs": [
    {
     "name": "stdout",
     "output_type": "stream",
     "text": [
      "feature 들의 평균 값\n",
      "Pclass     -6.913580e-01\n",
      "Sex        -3.524130e-01\n",
      "Age         2.153160e-16\n",
      "Embarked   -4.635241e-01\n",
      "lable       3.838384e-01\n",
      "dtype: float64\n",
      "\n",
      "feature 들의 분산 값\n",
      "Pclass      0.699015\n",
      "Sex         0.228475\n",
      "Age         1.000310\n",
      "Embarked    0.626477\n",
      "lable       0.236772\n",
      "dtype: float64\n"
     ]
    }
   ],
   "source": [
    "from sklearn.preprocessing import RobustScaler\n",
    "\n",
    "#StandarScaler 객체 생성\n",
    "scaler = RobustScaler()\n",
    "scaler.fit(Titanic_df)\n",
    "Titanic_scaled = scaler.transform(Titanic_df)\n",
    "Titanic_df_scaled = pd.DataFrame(data=Titanic_scaled, columns = Titanic_df.columns)\n",
    "\n",
    "print('feature 들의 평균 값')\n",
    "print(Titanic_df_scaled.mean())\n",
    "print('\\nfeature 들의 분산 값')\n",
    "print(Titanic_df_scaled.var())"
   ]
  },
  {
   "cell_type": "code",
   "execution_count": 447,
   "id": "d4927b93",
   "metadata": {
    "ExecuteTime": {
     "end_time": "2022-07-03T07:50:31.345100Z",
     "start_time": "2022-07-03T07:50:31.055010Z"
    },
    "scrolled": false
   },
   "outputs": [
    {
     "data": {
      "image/png": "[encoded data removed]",
      "text/plain": [
       "<Figure size 432x288 with 1 Axes>"
      ]
     },
     "metadata": {
      "needs_background": "light"
     },
     "output_type": "display_data"
    }
   ],
   "source": [
    "import matplotlib.pyplot as plt\n",
    "import seaborn as sns\n",
    "sns.kdeplot(Titanic_df_scaled ['Pclass'])\n",
    "sns.kdeplot(Titanic_df_scaled ['Sex'])\n",
    "sns.kdeplot(Titanic_df_scaled ['Age'])\n",
    "sns.kdeplot(Titanic_df_scaled ['Embarked'])\n",
    "plt.title('RobustScaler')\n",
    "plt.xlabel('Features')\n",
    "plt.legend(['Pclsss', 'Sex', 'Age', 'Embarked'])\n",
    "plt.show()\n",
    "plt.show()"
   ]
  },
  {
   "cell_type": "code",
   "execution_count": 403,
   "id": "8ec746d4",
   "metadata": {
    "ExecuteTime": {
     "end_time": "2022-07-03T07:21:54.380518Z",
     "start_time": "2022-07-03T07:21:54.374535Z"
    }
   },
   "outputs": [],
   "source": [
    "from sklearn.tree import DecisionTreeClassifier\n",
    "from sklearn.model_selection import train_test_split\n",
    "from sklearn import tree"
   ]
  },
  {
   "cell_type": "code",
   "execution_count": 404,
   "id": "73e972c8",
   "metadata": {
    "ExecuteTime": {
     "end_time": "2022-07-03T07:21:54.738736Z",
     "start_time": "2022-07-03T07:21:54.734064Z"
    }
   },
   "outputs": [],
   "source": [
    "data = [\"Pclass\", \"Sex\", \"Age\", \"Embarked\"]"
   ]
  },
  {
   "cell_type": "code",
   "execution_count": 409,
   "id": "e260f39c",
   "metadata": {
    "ExecuteTime": {
     "end_time": "2022-07-03T07:26:23.238975Z",
     "start_time": "2022-07-03T07:26:23.229002Z"
    }
   },
   "outputs": [],
   "source": [
    "X_train, X_test, y_train, y_test = train_test_split(Titanic_df[data], Titanic_df[\"lable\"], test_size=0.2, random_state=42)"
   ]
  },
  {
   "cell_type": "code",
   "execution_count": 412,
   "id": "85790877",
   "metadata": {
    "ExecuteTime": {
     "end_time": "2022-07-03T07:26:46.294495Z",
     "start_time": "2022-07-03T07:26:46.282526Z"
    },
    "scrolled": false
   },
   "outputs": [
    {
     "data": {
      "text/html": [
       "<style>#sk-container-id-7 {color: black;background-color: white;}#sk-container-id-7 pre{padding: 0;}#sk-container-id-7 div.sk-toggleable {background-color: white;}#sk-container-id-7 label.sk-toggleable__label {cursor: pointer;display: block;width: 100%;margin-bottom: 0;padding: 0.3em;box-sizing: border-box;text-align: center;}#sk-container-id-7 label.sk-toggleable__label-arrow:before {content: \"▸\";float: left;margin-right: 0.25em;color: #696969;}#sk-container-id-7 label.sk-toggleable__label-arrow:hover:before {color: black;}#sk-container-id-7 div.sk-estimator:hover label.sk-toggleable__label-arrow:before {color: black;}#sk-container-id-7 div.sk-toggleable__content {max-height: 0;max-width: 0;overflow: hidden;text-align: left;background-color: #f0f8ff;}#sk-container-id-7 div.sk-toggleable__content pre {margin: 0.2em;color: black;border-radius: 0.25em;background-color: #f0f8ff;}#sk-container-id-7 input.sk-toggleable__control:checked~div.sk-toggleable__content {max-height: 200px;max-width: 100%;overflow: auto;}#sk-container-id-7 input.sk-toggleable__control:checked~label.sk-toggleable__label-arrow:before {content: \"▾\";}#sk-container-id-7 div.sk-estimator input.sk-toggleable__control:checked~label.sk-toggleable__label {background-color: #d4ebff;}#sk-container-id-7 div.sk-label input.sk-toggleable__control:checked~label.sk-toggleable__label {background-color: #d4ebff;}#sk-container-id-7 input.sk-hidden--visually {border: 0;clip: rect(1px 1px 1px 1px);clip: rect(1px, 1px, 1px, 1px);height: 1px;margin: -1px;overflow: hidden;padding: 0;position: absolute;width: 1px;}#sk-container-id-7 div.sk-estimator {font-family: monospace;background-color: #f0f8ff;border: 1px dotted black;border-radius: 0.25em;box-sizing: border-box;margin-bottom: 0.5em;}#sk-container-id-7 div.sk-estimator:hover {background-color: #d4ebff;}#sk-container-id-7 div.sk-parallel-item::after {content: \"\";width: 100%;border-bottom: 1px solid gray;flex-grow: 1;}#sk-container-id-7 div.sk-label:hover label.sk-toggleable__label {background-color: #d4ebff;}#sk-container-id-7 div.sk-serial::before {content: \"\";position: absolute;border-left: 1px solid gray;box-sizing: border-box;top: 0;bottom: 0;left: 50%;z-index: 0;}#sk-container-id-7 div.sk-serial {display: flex;flex-direction: column;align-items: center;background-color: white;padding-right: 0.2em;padding-left: 0.2em;position: relative;}#sk-container-id-7 div.sk-item {position: relative;z-index: 1;}#sk-container-id-7 div.sk-parallel {display: flex;align-items: stretch;justify-content: center;background-color: white;position: relative;}#sk-container-id-7 div.sk-item::before, #sk-container-id-7 div.sk-parallel-item::before {content: \"\";position: absolute;border-left: 1px solid gray;box-sizing: border-box;top: 0;bottom: 0;left: 50%;z-index: -1;}#sk-container-id-7 div.sk-parallel-item {display: flex;flex-direction: column;z-index: 1;position: relative;background-color: white;}#sk-container-id-7 div.sk-parallel-item:first-child::after {align-self: flex-end;width: 50%;}#sk-container-id-7 div.sk-parallel-item:last-child::after {align-self: flex-start;width: 50%;}#sk-container-id-7 div.sk-parallel-item:only-child::after {width: 0;}#sk-container-id-7 div.sk-dashed-wrapped {border: 1px dashed gray;margin: 0 0.4em 0.5em 0.4em;box-sizing: border-box;padding-bottom: 0.4em;background-color: white;}#sk-container-id-7 div.sk-label label {font-family: monospace;font-weight: bold;display: inline-block;line-height: 1.2em;}#sk-container-id-7 div.sk-label-container {text-align: center;}#sk-container-id-7 div.sk-container {/* jupyter's `normalize.less` sets `[hidden] { display: none; }` but bootstrap.min.css set `[hidden] { display: none !important; }` so we also need the `!important` here to be able to override the default hidden behavior on the sphinx rendered scikit-learn.org. See: https://github.com/scikit-learn/scikit-learn/issues/21755 */display: inline-block !important;position: relative;}#sk-container-id-7 div.sk-text-repr-fallback {display: none;}</style><div id=\"sk-container-id-7\" class=\"sk-top-container\"><div class=\"sk-text-repr-fallback\"><pre>DecisionTreeClassifier(max_leaf_nodes=5, random_state=0)</pre><b>In a Jupyter environment, please rerun this cell to show the HTML representation or trust the notebook. <br />On GitHub, the HTML representation is unable to render, please try loading this page with nbviewer.org.</b></div><div class=\"sk-container\" hidden><div class=\"sk-item\"><div class=\"sk-estimator sk-toggleable\"><input class=\"sk-toggleable__control sk-hidden--visually\" id=\"sk-estimator-id-7\" type=\"checkbox\" checked><label for=\"sk-estimator-id-7\" class=\"sk-toggleable__label sk-toggleable__label-arrow\">DecisionTreeClassifier</label><div class=\"sk-toggleable__content\"><pre>DecisionTreeClassifier(max_leaf_nodes=5, random_state=0)</pre></div></div></div></div></div>"
      ],
      "text/plain": [
       "DecisionTreeClassifier(max_leaf_nodes=5, random_state=0)"
      ]
     },
     "execution_count": 412,
     "metadata": {},
     "output_type": "execute_result"
    }
   ],
   "source": [
    "clf = DecisionTreeClassifier(max_leaf_nodes=4, random_state=0)\n",
    "clf.fit(X_train, y_train)"
   ]
  },
  {
   "cell_type": "code",
   "execution_count": 413,
   "id": "ad5c4501",
   "metadata": {
    "ExecuteTime": {
     "end_time": "2022-07-03T07:26:47.968265Z",
     "start_time": "2022-07-03T07:26:47.460658Z"
    },
    "scrolled": true
   },
   "outputs": [
    {
     "data": {
      "image/png": "[encoded data removed]",
      "text/plain": [
       "<Figure size 432x288 with 1 Axes>"
      ]
     },
     "metadata": {
      "needs_background": "light"
     },
     "output_type": "display_data"
    }
   ],
   "source": [
    "tree.plot_tree(clf)\n",
    "plt.show()"
   ]
  },
  {
   "cell_type": "code",
   "execution_count": null,
   "id": "5c42142d",
   "metadata": {},
   "outputs": [],
   "source": []
  }
 ],
 "metadata": {
  "kernelspec": {
   "display_name": "Python 3 (ipykernel)",
   "language": "python",
   "name": "python3"
  },
  "language_info": {
   "codemirror_mode": {
    "name": "ipython",
    "version": 3
   },
   "file_extension": ".py",
   "mimetype": "text/x-python",
   "name": "python",
   "nbconvert_exporter": "python",
   "pygments_lexer": "ipython3",
   "version": "3.10.0"
  },
  "toc": {
   "base_numbering": 1,
   "nav_menu": {},
   "number_sections": true,
   "sideBar": true,
   "skip_h1_title": false,
   "title_cell": "Table of Contents",
   "title_sidebar": "Contents",
   "toc_cell": false,
   "toc_position": {},
   "toc_section_display": true,
   "toc_window_display": false
  }
 },
 "nbformat": 4,
 "nbformat_minor": 5
}
